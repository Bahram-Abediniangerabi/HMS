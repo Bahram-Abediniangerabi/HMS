{
 "cells": [
  {
   "cell_type": "code",
   "execution_count": 77,
   "metadata": {},
   "outputs": [],
   "source": [
    "### Necessary libraries ###\n",
    "import pandas as pd\n",
    "import numpy as np\n",
    "import pickle\n",
    "import matplotlib.pyplot as plt\n",
    "from scipy import stats\n",
    "import tensorflow as tf\n",
    "import seaborn as sns\n",
    "import sklearn\n",
    "from pylab import rcParams\n",
    "from sklearn.model_selection import train_test_split\n",
    "from keras.models import Model, load_model\n",
    "from keras.layers import Input, Dense\n",
    "from keras.callbacks import ModelCheckpoint, TensorBoard\n",
    "from keras import regularizers\n",
    "from keras import models\n",
    "from keras import layers\n",
    "from keras.wrappers.scikit_learn import KerasClassifier\n",
    "from sklearn.model_selection import cross_val_score\n",
    "from sklearn.datasets import make_classification"
   ]
  },
  {
   "cell_type": "code",
   "execution_count": 2,
   "metadata": {},
   "outputs": [
    {
     "name": "stdout",
     "output_type": "stream",
     "text": [
      "(101766, 50)\n"
     ]
    }
   ],
   "source": [
    "### Load data ###\n",
    "import pandas as pd\n",
    "data = pd.read_csv('diabetic_data.csv')\n",
    "print(data.shape)"
   ]
  },
  {
   "cell_type": "code",
   "execution_count": 3,
   "metadata": {
    "scrolled": true
   },
   "outputs": [
    {
     "name": "stdout",
     "output_type": "stream",
     "text": [
      "<class 'pandas.core.frame.DataFrame'>\n",
      "RangeIndex: 101766 entries, 0 to 101765\n",
      "Data columns (total 50 columns):\n",
      "encounter_id                101766 non-null int64\n",
      "patient_nbr                 101766 non-null int64\n",
      "race                        101766 non-null object\n",
      "gender                      101766 non-null object\n",
      "age                         101766 non-null object\n",
      "weight                      101766 non-null object\n",
      "admission_type_id           101766 non-null int64\n",
      "discharge_disposition_id    101766 non-null int64\n",
      "admission_source_id         101766 non-null int64\n",
      "time_in_hospital            101766 non-null int64\n",
      "payer_code                  101766 non-null object\n",
      "medical_specialty           101766 non-null object\n",
      "num_lab_procedures          101766 non-null int64\n",
      "num_procedures              101766 non-null int64\n",
      "num_medications             101766 non-null int64\n",
      "number_outpatient           101766 non-null int64\n",
      "number_emergency            101766 non-null int64\n",
      "number_inpatient            101766 non-null int64\n",
      "diag_1                      101766 non-null object\n",
      "diag_2                      101766 non-null object\n",
      "diag_3                      101766 non-null object\n",
      "number_diagnoses            101766 non-null int64\n",
      "max_glu_serum               101766 non-null object\n",
      "A1Cresult                   101766 non-null object\n",
      "metformin                   101766 non-null object\n",
      "repaglinide                 101766 non-null object\n",
      "nateglinide                 101766 non-null object\n",
      "chlorpropamide              101766 non-null object\n",
      "glimepiride                 101766 non-null object\n",
      "acetohexamide               101766 non-null object\n",
      "glipizide                   101766 non-null object\n",
      "glyburide                   101766 non-null object\n",
      "tolbutamide                 101766 non-null object\n",
      "pioglitazone                101766 non-null object\n",
      "rosiglitazone               101766 non-null object\n",
      "acarbose                    101766 non-null object\n",
      "miglitol                    101766 non-null object\n",
      "troglitazone                101766 non-null object\n",
      "tolazamide                  101766 non-null object\n",
      "examide                     101766 non-null object\n",
      "citoglipton                 101766 non-null object\n",
      "insulin                     101766 non-null object\n",
      "glyburide-metformin         101766 non-null object\n",
      "glipizide-metformin         101766 non-null object\n",
      "glimepiride-pioglitazone    101766 non-null object\n",
      "metformin-rosiglitazone     101766 non-null object\n",
      "metformin-pioglitazone      101766 non-null object\n",
      "change                      101766 non-null object\n",
      "diabetesMed                 101766 non-null object\n",
      "readmitted                  101766 non-null object\n",
      "dtypes: int64(13), object(37)\n",
      "memory usage: 38.8+ MB\n"
     ]
    }
   ],
   "source": [
    "### Feature types ###\n",
    "data.info()"
   ]
  },
  {
   "cell_type": "code",
   "execution_count": 4,
   "metadata": {},
   "outputs": [
    {
     "data": {
      "text/html": [
       "<div>\n",
       "<style scoped>\n",
       "    .dataframe tbody tr th:only-of-type {\n",
       "        vertical-align: middle;\n",
       "    }\n",
       "\n",
       "    .dataframe tbody tr th {\n",
       "        vertical-align: top;\n",
       "    }\n",
       "\n",
       "    .dataframe thead th {\n",
       "        text-align: right;\n",
       "    }\n",
       "</style>\n",
       "<table border=\"1\" class=\"dataframe\">\n",
       "  <thead>\n",
       "    <tr style=\"text-align: right;\">\n",
       "      <th></th>\n",
       "      <th>encounter_id</th>\n",
       "      <th>patient_nbr</th>\n",
       "      <th>race</th>\n",
       "      <th>gender</th>\n",
       "      <th>age</th>\n",
       "      <th>weight</th>\n",
       "      <th>admission_type_id</th>\n",
       "      <th>discharge_disposition_id</th>\n",
       "      <th>admission_source_id</th>\n",
       "      <th>time_in_hospital</th>\n",
       "      <th>...</th>\n",
       "      <th>citoglipton</th>\n",
       "      <th>insulin</th>\n",
       "      <th>glyburide-metformin</th>\n",
       "      <th>glipizide-metformin</th>\n",
       "      <th>glimepiride-pioglitazone</th>\n",
       "      <th>metformin-rosiglitazone</th>\n",
       "      <th>metformin-pioglitazone</th>\n",
       "      <th>change</th>\n",
       "      <th>diabetesMed</th>\n",
       "      <th>readmitted</th>\n",
       "    </tr>\n",
       "  </thead>\n",
       "  <tbody>\n",
       "    <tr>\n",
       "      <th>0</th>\n",
       "      <td>2278392</td>\n",
       "      <td>8222157</td>\n",
       "      <td>Caucasian</td>\n",
       "      <td>Female</td>\n",
       "      <td>[0-10)</td>\n",
       "      <td>?</td>\n",
       "      <td>6</td>\n",
       "      <td>25</td>\n",
       "      <td>1</td>\n",
       "      <td>1</td>\n",
       "      <td>...</td>\n",
       "      <td>No</td>\n",
       "      <td>No</td>\n",
       "      <td>No</td>\n",
       "      <td>No</td>\n",
       "      <td>No</td>\n",
       "      <td>No</td>\n",
       "      <td>No</td>\n",
       "      <td>No</td>\n",
       "      <td>No</td>\n",
       "      <td>NO</td>\n",
       "    </tr>\n",
       "    <tr>\n",
       "      <th>1</th>\n",
       "      <td>149190</td>\n",
       "      <td>55629189</td>\n",
       "      <td>Caucasian</td>\n",
       "      <td>Female</td>\n",
       "      <td>[10-20)</td>\n",
       "      <td>?</td>\n",
       "      <td>1</td>\n",
       "      <td>1</td>\n",
       "      <td>7</td>\n",
       "      <td>3</td>\n",
       "      <td>...</td>\n",
       "      <td>No</td>\n",
       "      <td>Up</td>\n",
       "      <td>No</td>\n",
       "      <td>No</td>\n",
       "      <td>No</td>\n",
       "      <td>No</td>\n",
       "      <td>No</td>\n",
       "      <td>Ch</td>\n",
       "      <td>Yes</td>\n",
       "      <td>&gt;30</td>\n",
       "    </tr>\n",
       "    <tr>\n",
       "      <th>2</th>\n",
       "      <td>64410</td>\n",
       "      <td>86047875</td>\n",
       "      <td>AfricanAmerican</td>\n",
       "      <td>Female</td>\n",
       "      <td>[20-30)</td>\n",
       "      <td>?</td>\n",
       "      <td>1</td>\n",
       "      <td>1</td>\n",
       "      <td>7</td>\n",
       "      <td>2</td>\n",
       "      <td>...</td>\n",
       "      <td>No</td>\n",
       "      <td>No</td>\n",
       "      <td>No</td>\n",
       "      <td>No</td>\n",
       "      <td>No</td>\n",
       "      <td>No</td>\n",
       "      <td>No</td>\n",
       "      <td>No</td>\n",
       "      <td>Yes</td>\n",
       "      <td>NO</td>\n",
       "    </tr>\n",
       "    <tr>\n",
       "      <th>3</th>\n",
       "      <td>500364</td>\n",
       "      <td>82442376</td>\n",
       "      <td>Caucasian</td>\n",
       "      <td>Male</td>\n",
       "      <td>[30-40)</td>\n",
       "      <td>?</td>\n",
       "      <td>1</td>\n",
       "      <td>1</td>\n",
       "      <td>7</td>\n",
       "      <td>2</td>\n",
       "      <td>...</td>\n",
       "      <td>No</td>\n",
       "      <td>Up</td>\n",
       "      <td>No</td>\n",
       "      <td>No</td>\n",
       "      <td>No</td>\n",
       "      <td>No</td>\n",
       "      <td>No</td>\n",
       "      <td>Ch</td>\n",
       "      <td>Yes</td>\n",
       "      <td>NO</td>\n",
       "    </tr>\n",
       "    <tr>\n",
       "      <th>4</th>\n",
       "      <td>16680</td>\n",
       "      <td>42519267</td>\n",
       "      <td>Caucasian</td>\n",
       "      <td>Male</td>\n",
       "      <td>[40-50)</td>\n",
       "      <td>?</td>\n",
       "      <td>1</td>\n",
       "      <td>1</td>\n",
       "      <td>7</td>\n",
       "      <td>1</td>\n",
       "      <td>...</td>\n",
       "      <td>No</td>\n",
       "      <td>Steady</td>\n",
       "      <td>No</td>\n",
       "      <td>No</td>\n",
       "      <td>No</td>\n",
       "      <td>No</td>\n",
       "      <td>No</td>\n",
       "      <td>Ch</td>\n",
       "      <td>Yes</td>\n",
       "      <td>NO</td>\n",
       "    </tr>\n",
       "  </tbody>\n",
       "</table>\n",
       "<p>5 rows × 50 columns</p>\n",
       "</div>"
      ],
      "text/plain": [
       "   encounter_id  patient_nbr             race  gender      age weight  \\\n",
       "0       2278392      8222157        Caucasian  Female   [0-10)      ?   \n",
       "1        149190     55629189        Caucasian  Female  [10-20)      ?   \n",
       "2         64410     86047875  AfricanAmerican  Female  [20-30)      ?   \n",
       "3        500364     82442376        Caucasian    Male  [30-40)      ?   \n",
       "4         16680     42519267        Caucasian    Male  [40-50)      ?   \n",
       "\n",
       "   admission_type_id  discharge_disposition_id  admission_source_id  \\\n",
       "0                  6                        25                    1   \n",
       "1                  1                         1                    7   \n",
       "2                  1                         1                    7   \n",
       "3                  1                         1                    7   \n",
       "4                  1                         1                    7   \n",
       "\n",
       "   time_in_hospital    ...     citoglipton insulin  glyburide-metformin  \\\n",
       "0                 1    ...              No      No                   No   \n",
       "1                 3    ...              No      Up                   No   \n",
       "2                 2    ...              No      No                   No   \n",
       "3                 2    ...              No      Up                   No   \n",
       "4                 1    ...              No  Steady                   No   \n",
       "\n",
       "   glipizide-metformin  glimepiride-pioglitazone  metformin-rosiglitazone  \\\n",
       "0                   No                        No                       No   \n",
       "1                   No                        No                       No   \n",
       "2                   No                        No                       No   \n",
       "3                   No                        No                       No   \n",
       "4                   No                        No                       No   \n",
       "\n",
       "   metformin-pioglitazone  change diabetesMed readmitted  \n",
       "0                      No      No          No         NO  \n",
       "1                      No      Ch         Yes        >30  \n",
       "2                      No      No         Yes         NO  \n",
       "3                      No      Ch         Yes         NO  \n",
       "4                      No      Ch         Yes         NO  \n",
       "\n",
       "[5 rows x 50 columns]"
      ]
     },
     "execution_count": 4,
     "metadata": {},
     "output_type": "execute_result"
    }
   ],
   "source": [
    "data.head()"
   ]
  },
  {
   "cell_type": "code",
   "execution_count": 5,
   "metadata": {},
   "outputs": [
    {
     "data": {
      "text/plain": [
       "readmitted\n",
       "<30    11357\n",
       ">30    35545\n",
       "NO     54864\n",
       "dtype: int64"
      ]
     },
     "execution_count": 5,
     "metadata": {},
     "output_type": "execute_result"
    }
   ],
   "source": [
    "### Number of classes in target values (readmitted) ###\n",
    "data.groupby('readmitted').size()"
   ]
  },
  {
   "cell_type": "code",
   "execution_count": 6,
   "metadata": {},
   "outputs": [
    {
     "data": {
      "text/plain": [
       "'Number of classes in Target values shows that we can treat them a ballanced data'"
      ]
     },
     "execution_count": 6,
     "metadata": {},
     "output_type": "execute_result"
    }
   ],
   "source": [
    "'''Number of classes in Target values shows that we can treat them a ballanced data'''"
   ]
  },
  {
   "cell_type": "code",
   "execution_count": 7,
   "metadata": {},
   "outputs": [
    {
     "data": {
      "text/plain": [
       "discharge_disposition_id\n",
       "1     60234\n",
       "2      2128\n",
       "3     13954\n",
       "4       815\n",
       "5      1184\n",
       "6     12902\n",
       "7       623\n",
       "8       108\n",
       "9        21\n",
       "10        6\n",
       "11     1642\n",
       "12        3\n",
       "13      399\n",
       "14      372\n",
       "15       63\n",
       "16       11\n",
       "17       14\n",
       "18     3691\n",
       "19        8\n",
       "20        2\n",
       "22     1993\n",
       "23      412\n",
       "24       48\n",
       "25      989\n",
       "27        5\n",
       "28      139\n",
       "dtype: int64"
      ]
     },
     "execution_count": 7,
     "metadata": {},
     "output_type": "execute_result"
    }
   ],
   "source": [
    "### Investigation of the discharge_disposition_id ###\n",
    "data.groupby('discharge_disposition_id').size()"
   ]
  },
  {
   "cell_type": "code",
   "execution_count": 8,
   "metadata": {},
   "outputs": [
    {
     "data": {
      "text/plain": [
       "'Investigation of the IDs mapping shows that discharge_disposition_id \\n with ids \"11,13,14,19,20,21\" related to patiants who died or will die and\\n there is no more chance for being readmitted to the hospital. Therefore, \\n datapoints with these IDs removal is essential'"
      ]
     },
     "execution_count": 8,
     "metadata": {},
     "output_type": "execute_result"
    }
   ],
   "source": [
    "'''Investigation of the IDs mapping shows that discharge_disposition_id \n",
    " with ids \"11,13,14,19,20,21\" related to patiants who died or will die and\n",
    " there is no more chance for being readmitted to the hospital. Therefore, \n",
    " datapoints with these IDs removal is essential'''"
   ]
  },
  {
   "cell_type": "code",
   "execution_count": 9,
   "metadata": {},
   "outputs": [],
   "source": [
    "### Removing data points with discharge_disposition_id equal to [11,13,14,19,20,21] ###\n",
    "data = data.loc[~data.discharge_disposition_id.isin([11,13,14,19,20,21])]"
   ]
  },
  {
   "cell_type": "code",
   "execution_count": 10,
   "metadata": {},
   "outputs": [],
   "source": [
    "### Replacing '?' with numpy nan values ###\n",
    "data = data.replace('?',np.nan)"
   ]
  },
  {
   "cell_type": "code",
   "execution_count": 11,
   "metadata": {},
   "outputs": [],
   "source": [
    "### List for numerical features ###\n",
    "cols_num = ['time_in_hospital','num_lab_procedures', 'num_procedures', 'num_medications',\n",
    "       'number_outpatient', 'number_emergency', 'number_inpatient','number_diagnoses']"
   ]
  },
  {
   "cell_type": "code",
   "execution_count": 12,
   "metadata": {},
   "outputs": [
    {
     "data": {
      "text/plain": [
       "time_in_hospital      0\n",
       "num_lab_procedures    0\n",
       "num_procedures        0\n",
       "num_medications       0\n",
       "number_outpatient     0\n",
       "number_emergency      0\n",
       "number_inpatient      0\n",
       "number_diagnoses      0\n",
       "dtype: int64"
      ]
     },
     "execution_count": 12,
     "metadata": {},
     "output_type": "execute_result"
    }
   ],
   "source": [
    "### Nulls in numericall features ###\n",
    "data[cols_num].isnull().sum()"
   ]
  },
  {
   "cell_type": "code",
   "execution_count": 13,
   "metadata": {},
   "outputs": [
    {
     "data": {
      "text/plain": [
       "\"There is no 'null' in the numerical features\""
      ]
     },
     "execution_count": 13,
     "metadata": {},
     "output_type": "execute_result"
    }
   ],
   "source": [
    "'''There is no 'null' in the numerical features'''"
   ]
  },
  {
   "cell_type": "code",
   "execution_count": 14,
   "metadata": {},
   "outputs": [
    {
     "data": {
      "text/html": [
       "<div>\n",
       "<style scoped>\n",
       "    .dataframe tbody tr th:only-of-type {\n",
       "        vertical-align: middle;\n",
       "    }\n",
       "\n",
       "    .dataframe tbody tr th {\n",
       "        vertical-align: top;\n",
       "    }\n",
       "\n",
       "    .dataframe thead th {\n",
       "        text-align: right;\n",
       "    }\n",
       "</style>\n",
       "<table border=\"1\" class=\"dataframe\">\n",
       "  <thead>\n",
       "    <tr style=\"text-align: right;\">\n",
       "      <th></th>\n",
       "      <th>encounter_id</th>\n",
       "      <th>patient_nbr</th>\n",
       "      <th>race</th>\n",
       "      <th>gender</th>\n",
       "      <th>age</th>\n",
       "      <th>weight</th>\n",
       "      <th>admission_type_id</th>\n",
       "      <th>discharge_disposition_id</th>\n",
       "      <th>admission_source_id</th>\n",
       "      <th>time_in_hospital</th>\n",
       "      <th>...</th>\n",
       "      <th>citoglipton</th>\n",
       "      <th>insulin</th>\n",
       "      <th>glyburide-metformin</th>\n",
       "      <th>glipizide-metformin</th>\n",
       "      <th>glimepiride-pioglitazone</th>\n",
       "      <th>metformin-rosiglitazone</th>\n",
       "      <th>metformin-pioglitazone</th>\n",
       "      <th>change</th>\n",
       "      <th>diabetesMed</th>\n",
       "      <th>readmitted</th>\n",
       "    </tr>\n",
       "  </thead>\n",
       "  <tbody>\n",
       "    <tr>\n",
       "      <th>0</th>\n",
       "      <td>2278392</td>\n",
       "      <td>8222157</td>\n",
       "      <td>Caucasian</td>\n",
       "      <td>Female</td>\n",
       "      <td>[0-10)</td>\n",
       "      <td>NaN</td>\n",
       "      <td>6</td>\n",
       "      <td>25</td>\n",
       "      <td>1</td>\n",
       "      <td>-1.138438</td>\n",
       "      <td>...</td>\n",
       "      <td>No</td>\n",
       "      <td>No</td>\n",
       "      <td>No</td>\n",
       "      <td>No</td>\n",
       "      <td>No</td>\n",
       "      <td>No</td>\n",
       "      <td>No</td>\n",
       "      <td>No</td>\n",
       "      <td>No</td>\n",
       "      <td>NO</td>\n",
       "    </tr>\n",
       "    <tr>\n",
       "      <th>1</th>\n",
       "      <td>149190</td>\n",
       "      <td>55629189</td>\n",
       "      <td>Caucasian</td>\n",
       "      <td>Female</td>\n",
       "      <td>[10-20)</td>\n",
       "      <td>NaN</td>\n",
       "      <td>1</td>\n",
       "      <td>1</td>\n",
       "      <td>7</td>\n",
       "      <td>-0.464673</td>\n",
       "      <td>...</td>\n",
       "      <td>No</td>\n",
       "      <td>Up</td>\n",
       "      <td>No</td>\n",
       "      <td>No</td>\n",
       "      <td>No</td>\n",
       "      <td>No</td>\n",
       "      <td>No</td>\n",
       "      <td>Ch</td>\n",
       "      <td>Yes</td>\n",
       "      <td>&gt;30</td>\n",
       "    </tr>\n",
       "    <tr>\n",
       "      <th>2</th>\n",
       "      <td>64410</td>\n",
       "      <td>86047875</td>\n",
       "      <td>AfricanAmerican</td>\n",
       "      <td>Female</td>\n",
       "      <td>[20-30)</td>\n",
       "      <td>NaN</td>\n",
       "      <td>1</td>\n",
       "      <td>1</td>\n",
       "      <td>7</td>\n",
       "      <td>-0.801555</td>\n",
       "      <td>...</td>\n",
       "      <td>No</td>\n",
       "      <td>No</td>\n",
       "      <td>No</td>\n",
       "      <td>No</td>\n",
       "      <td>No</td>\n",
       "      <td>No</td>\n",
       "      <td>No</td>\n",
       "      <td>No</td>\n",
       "      <td>Yes</td>\n",
       "      <td>NO</td>\n",
       "    </tr>\n",
       "    <tr>\n",
       "      <th>3</th>\n",
       "      <td>500364</td>\n",
       "      <td>82442376</td>\n",
       "      <td>Caucasian</td>\n",
       "      <td>Male</td>\n",
       "      <td>[30-40)</td>\n",
       "      <td>NaN</td>\n",
       "      <td>1</td>\n",
       "      <td>1</td>\n",
       "      <td>7</td>\n",
       "      <td>-0.801555</td>\n",
       "      <td>...</td>\n",
       "      <td>No</td>\n",
       "      <td>Up</td>\n",
       "      <td>No</td>\n",
       "      <td>No</td>\n",
       "      <td>No</td>\n",
       "      <td>No</td>\n",
       "      <td>No</td>\n",
       "      <td>Ch</td>\n",
       "      <td>Yes</td>\n",
       "      <td>NO</td>\n",
       "    </tr>\n",
       "    <tr>\n",
       "      <th>4</th>\n",
       "      <td>16680</td>\n",
       "      <td>42519267</td>\n",
       "      <td>Caucasian</td>\n",
       "      <td>Male</td>\n",
       "      <td>[40-50)</td>\n",
       "      <td>NaN</td>\n",
       "      <td>1</td>\n",
       "      <td>1</td>\n",
       "      <td>7</td>\n",
       "      <td>-1.138438</td>\n",
       "      <td>...</td>\n",
       "      <td>No</td>\n",
       "      <td>Steady</td>\n",
       "      <td>No</td>\n",
       "      <td>No</td>\n",
       "      <td>No</td>\n",
       "      <td>No</td>\n",
       "      <td>No</td>\n",
       "      <td>Ch</td>\n",
       "      <td>Yes</td>\n",
       "      <td>NO</td>\n",
       "    </tr>\n",
       "  </tbody>\n",
       "</table>\n",
       "<p>5 rows × 50 columns</p>\n",
       "</div>"
      ],
      "text/plain": [
       "   encounter_id  patient_nbr             race  gender      age weight  \\\n",
       "0       2278392      8222157        Caucasian  Female   [0-10)    NaN   \n",
       "1        149190     55629189        Caucasian  Female  [10-20)    NaN   \n",
       "2         64410     86047875  AfricanAmerican  Female  [20-30)    NaN   \n",
       "3        500364     82442376        Caucasian    Male  [30-40)    NaN   \n",
       "4         16680     42519267        Caucasian    Male  [40-50)    NaN   \n",
       "\n",
       "   admission_type_id  discharge_disposition_id  admission_source_id  \\\n",
       "0                  6                        25                    1   \n",
       "1                  1                         1                    7   \n",
       "2                  1                         1                    7   \n",
       "3                  1                         1                    7   \n",
       "4                  1                         1                    7   \n",
       "\n",
       "   time_in_hospital    ...     citoglipton insulin  glyburide-metformin  \\\n",
       "0         -1.138438    ...              No      No                   No   \n",
       "1         -0.464673    ...              No      Up                   No   \n",
       "2         -0.801555    ...              No      No                   No   \n",
       "3         -0.801555    ...              No      Up                   No   \n",
       "4         -1.138438    ...              No  Steady                   No   \n",
       "\n",
       "   glipizide-metformin  glimepiride-pioglitazone  metformin-rosiglitazone  \\\n",
       "0                   No                        No                       No   \n",
       "1                   No                        No                       No   \n",
       "2                   No                        No                       No   \n",
       "3                   No                        No                       No   \n",
       "4                   No                        No                       No   \n",
       "\n",
       "   metformin-pioglitazone  change diabetesMed readmitted  \n",
       "0                      No      No          No         NO  \n",
       "1                      No      Ch         Yes        >30  \n",
       "2                      No      No         Yes         NO  \n",
       "3                      No      Ch         Yes         NO  \n",
       "4                      No      Ch         Yes         NO  \n",
       "\n",
       "[5 rows x 50 columns]"
      ]
     },
     "execution_count": 14,
     "metadata": {},
     "output_type": "execute_result"
    }
   ],
   "source": [
    "### Sclaing numerical features to speed up the computations ###\n",
    "from sklearn.preprocessing import StandardScaler\n",
    "data[cols_num] = StandardScaler().fit_transform(data[cols_num])\n",
    "data.head()"
   ]
  },
  {
   "cell_type": "code",
   "execution_count": 15,
   "metadata": {},
   "outputs": [],
   "source": [
    "### List for categorical features ###\n",
    "cols_cat = ['race', 'gender', \n",
    "       'max_glu_serum', 'A1Cresult',\n",
    "       'metformin', 'repaglinide', 'nateglinide', 'chlorpropamide',\n",
    "       'glimepiride', 'acetohexamide', 'glipizide', 'glyburide', 'tolbutamide',\n",
    "       'pioglitazone', 'rosiglitazone', 'acarbose', 'miglitol', 'troglitazone',\n",
    "       'tolazamide', 'insulin',\n",
    "       'glyburide-metformin', 'glipizide-metformin',\n",
    "       'glimepiride-pioglitazone', 'metformin-rosiglitazone',\n",
    "       'metformin-pioglitazone', 'change', 'diabetesMed','payer_code']"
   ]
  },
  {
   "cell_type": "code",
   "execution_count": 16,
   "metadata": {},
   "outputs": [
    {
     "data": {
      "text/plain": [
       "race                         2234\n",
       "gender                          0\n",
       "max_glu_serum                   0\n",
       "A1Cresult                       0\n",
       "metformin                       0\n",
       "repaglinide                     0\n",
       "nateglinide                     0\n",
       "chlorpropamide                  0\n",
       "glimepiride                     0\n",
       "acetohexamide                   0\n",
       "glipizide                       0\n",
       "glyburide                       0\n",
       "tolbutamide                     0\n",
       "pioglitazone                    0\n",
       "rosiglitazone                   0\n",
       "acarbose                        0\n",
       "miglitol                        0\n",
       "troglitazone                    0\n",
       "tolazamide                      0\n",
       "insulin                         0\n",
       "glyburide-metformin             0\n",
       "glipizide-metformin             0\n",
       "glimepiride-pioglitazone        0\n",
       "metformin-rosiglitazone         0\n",
       "metformin-pioglitazone          0\n",
       "change                          0\n",
       "diabetesMed                     0\n",
       "payer_code                  39398\n",
       "dtype: int64"
      ]
     },
     "execution_count": 16,
     "metadata": {},
     "output_type": "execute_result"
    }
   ],
   "source": [
    "### Nulls in categorical features ###\n",
    "data[cols_cat].isnull().sum()"
   ]
  },
  {
   "cell_type": "code",
   "execution_count": 17,
   "metadata": {},
   "outputs": [
    {
     "data": {
      "text/plain": [
       "'race and payer_code have null values'"
      ]
     },
     "execution_count": 17,
     "metadata": {},
     "output_type": "execute_result"
    }
   ],
   "source": [
    "'''race and payer_code have null values'''"
   ]
  },
  {
   "cell_type": "code",
   "execution_count": 18,
   "metadata": {},
   "outputs": [],
   "source": [
    "### Handling na in race, payer_code, and medical_specialty ### \n",
    "data['race'] = data['race'].fillna('Null')\n",
    "data['payer_code'] = data['payer_code'].fillna('Null')\n",
    "data['medical_specialty'] = data['medical_specialty'].fillna('Null')"
   ]
  },
  {
   "cell_type": "code",
   "execution_count": 19,
   "metadata": {},
   "outputs": [
    {
     "name": "stdout",
     "output_type": "stream",
     "text": [
      "Number medical specialty: 73\n"
     ]
    },
    {
     "data": {
      "text/plain": [
       "medical_specialty\n",
       "Null                                 48616\n",
       "InternalMedicine                     14237\n",
       "Emergency/Trauma                      7419\n",
       "Family/GeneralPractice                7252\n",
       "Cardiology                            5279\n",
       "Surgery-General                       3059\n",
       "Nephrology                            1539\n",
       "Orthopedics                           1392\n",
       "Orthopedics-Reconstructive            1230\n",
       "Radiologist                           1121\n",
       "Pulmonology                            854\n",
       "Psychiatry                             853\n",
       "Urology                                682\n",
       "ObstetricsandGynecology                669\n",
       "Surgery-Cardiovascular/Thoracic        642\n",
       "Gastroenterology                       538\n",
       "Surgery-Vascular                       525\n",
       "Surgery-Neuro                          462\n",
       "PhysicalMedicineandRehabilitation      391\n",
       "Oncology                               319\n",
       "Pediatrics                             253\n",
       "Neurology                              201\n",
       "Hematology/Oncology                    187\n",
       "Pediatrics-Endocrinology               159\n",
       "Otolaryngology                         125\n",
       "Endocrinology                          119\n",
       "Surgery-Thoracic                       108\n",
       "Psychology                             101\n",
       "Podiatry                               100\n",
       "Surgery-Cardiovascular                  98\n",
       "                                     ...  \n",
       "Obstetrics                              19\n",
       "Anesthesiology-Pediatric                19\n",
       "Rheumatology                            17\n",
       "Pathology                               16\n",
       "Anesthesiology                          12\n",
       "OutreachServices                        12\n",
       "Surgery-Colon&Rectal                    11\n",
       "Pediatrics-Neurology                    10\n",
       "PhysicianNotFound                       10\n",
       "Surgery-Maxillofacial                    9\n",
       "Endocrinology-Metabolism                 8\n",
       "Surgery-Pediatric                        8\n",
       "Cardiology-Pediatric                     7\n",
       "AllergyandImmunology                     7\n",
       "Psychiatry-Child/Adolescent              7\n",
       "DCPTEAM                                  5\n",
       "Dentistry                                4\n",
       "Pediatrics-Hematology-Oncology           4\n",
       "Pediatrics-AllergyandImmunology          3\n",
       "Pediatrics-EmergencyMedicine             3\n",
       "Resident                                 2\n",
       "Psychiatry-Addictive                     1\n",
       "Proctology                               1\n",
       "Perinatology                             1\n",
       "Pediatrics-InfectiousDiseases            1\n",
       "SportsMedicine                           1\n",
       "Dermatology                              1\n",
       "Speech                                   1\n",
       "Surgery-PlasticwithinHeadandNeck         1\n",
       "Neurophysiology                          1\n",
       "Length: 73, dtype: int64"
      ]
     },
     "execution_count": 19,
     "metadata": {},
     "output_type": "execute_result"
    }
   ],
   "source": [
    "### Investigating distinct labels in medical_specialty ###\n",
    "print('Number medical specialty:', data.medical_specialty.nunique())\n",
    "data.groupby('medical_specialty').size().sort_values(ascending = False)"
   ]
  },
  {
   "cell_type": "code",
   "execution_count": 21,
   "metadata": {},
   "outputs": [
    {
     "data": {
      "text/plain": [
       "' Using all 73 lables for the modeling can increse the dimensionality of the input features since we will use one hot encoder for categorical features. It results in increasing the complexity of models. There are 73 unique labels in \\nmedical_specialty. So, to avoid the mentioned issue and use this feature more efficintly, top 10 labels with high frequeancies are used directly in the modeling. The remaining lables are grouped and used as one single lable in the computation.'"
      ]
     },
     "execution_count": 21,
     "metadata": {},
     "output_type": "execute_result"
    }
   ],
   "source": [
    "''' Using all 73 lables for the modeling can increse the dimensionality of the input features since we will use one hot encoder for categorical features. It results in increasing the complexity of models. There are 73 unique labels in \n",
    "medical_specialty. So, to avoid the mentioned issue and use this feature more efficintly, top 10 labels with high frequeancies are used directly in the modeling. The remaining lables are grouped and used as one single lable in the computation.'''"
   ]
  },
  {
   "cell_type": "code",
   "execution_count": 22,
   "metadata": {},
   "outputs": [],
   "source": [
    "### Top 10 labels with higher frequency ###\n",
    "top_10 = ['Unknown','InternalMedicine','Emergency/Trauma','Family/GeneralPractice','Cardiology','Surgery-General','Nephrology','Orthopedics','Orthopedics-Reconstructive','Radiologist']\n",
    "\n",
    "# make a new column with duplicated data\n",
    "data['med_spec'] = data['medical_specialty'].copy()\n",
    "\n",
    "# replace all specialties not in top 10 with 'Other' category\n",
    "data.loc[~data.med_spec.isin(top_10),'med_spec'] = 'Other'"
   ]
  },
  {
   "cell_type": "code",
   "execution_count": 23,
   "metadata": {},
   "outputs": [
    {
     "data": {
      "text/plain": [
       "med_spec\n",
       "Cardiology                     5279\n",
       "Emergency/Trauma               7419\n",
       "Family/GeneralPractice         7252\n",
       "InternalMedicine              14237\n",
       "Nephrology                     1539\n",
       "Orthopedics                    1392\n",
       "Orthopedics-Reconstructive     1230\n",
       "Other                         56815\n",
       "Radiologist                    1121\n",
       "Surgery-General                3059\n",
       "dtype: int64"
      ]
     },
     "execution_count": 23,
     "metadata": {},
     "output_type": "execute_result"
    }
   ],
   "source": [
    "data.groupby('med_spec').size()"
   ]
  },
  {
   "cell_type": "code",
   "execution_count": 25,
   "metadata": {},
   "outputs": [
    {
     "data": {
      "text/plain": [
       "'Now, after instead of having 73 labels, there are 11 labels in the new created med_spec feature. '"
      ]
     },
     "execution_count": 25,
     "metadata": {},
     "output_type": "execute_result"
    }
   ],
   "source": [
    "'''Now, after instead of having 73 labels, there are 11 labels in the new created med_spec feature. '''"
   ]
  },
  {
   "cell_type": "code",
   "execution_count": 26,
   "metadata": {},
   "outputs": [],
   "source": [
    "### Changing data type of categorical features with numerical labels to string ###\n",
    "cols_cat_num = ['admission_type_id', 'discharge_disposition_id', 'admission_source_id']\n",
    "data[cols_cat_num] = data[cols_cat_num].astype('str')"
   ]
  },
  {
   "cell_type": "code",
   "execution_count": 27,
   "metadata": {},
   "outputs": [],
   "source": [
    "### Creating dummies from categorical features to use in the predictive models ###\n",
    "data_cat = pd.get_dummies(data[cols_cat + cols_cat_num + ['med_spec']],drop_first = True)"
   ]
  },
  {
   "cell_type": "code",
   "execution_count": 28,
   "metadata": {},
   "outputs": [
    {
     "data": {
      "text/html": [
       "<div>\n",
       "<style scoped>\n",
       "    .dataframe tbody tr th:only-of-type {\n",
       "        vertical-align: middle;\n",
       "    }\n",
       "\n",
       "    .dataframe tbody tr th {\n",
       "        vertical-align: top;\n",
       "    }\n",
       "\n",
       "    .dataframe thead th {\n",
       "        text-align: right;\n",
       "    }\n",
       "</style>\n",
       "<table border=\"1\" class=\"dataframe\">\n",
       "  <thead>\n",
       "    <tr style=\"text-align: right;\">\n",
       "      <th></th>\n",
       "      <th>race_Asian</th>\n",
       "      <th>race_Caucasian</th>\n",
       "      <th>race_Hispanic</th>\n",
       "      <th>race_Null</th>\n",
       "      <th>race_Other</th>\n",
       "      <th>gender_Male</th>\n",
       "      <th>gender_Unknown/Invalid</th>\n",
       "      <th>max_glu_serum_&gt;300</th>\n",
       "      <th>max_glu_serum_None</th>\n",
       "      <th>max_glu_serum_Norm</th>\n",
       "      <th>...</th>\n",
       "      <th>admission_source_id_9</th>\n",
       "      <th>med_spec_Emergency/Trauma</th>\n",
       "      <th>med_spec_Family/GeneralPractice</th>\n",
       "      <th>med_spec_InternalMedicine</th>\n",
       "      <th>med_spec_Nephrology</th>\n",
       "      <th>med_spec_Orthopedics</th>\n",
       "      <th>med_spec_Orthopedics-Reconstructive</th>\n",
       "      <th>med_spec_Other</th>\n",
       "      <th>med_spec_Radiologist</th>\n",
       "      <th>med_spec_Surgery-General</th>\n",
       "    </tr>\n",
       "  </thead>\n",
       "  <tbody>\n",
       "    <tr>\n",
       "      <th>0</th>\n",
       "      <td>0</td>\n",
       "      <td>1</td>\n",
       "      <td>0</td>\n",
       "      <td>0</td>\n",
       "      <td>0</td>\n",
       "      <td>0</td>\n",
       "      <td>0</td>\n",
       "      <td>0</td>\n",
       "      <td>1</td>\n",
       "      <td>0</td>\n",
       "      <td>...</td>\n",
       "      <td>0</td>\n",
       "      <td>0</td>\n",
       "      <td>0</td>\n",
       "      <td>0</td>\n",
       "      <td>0</td>\n",
       "      <td>0</td>\n",
       "      <td>0</td>\n",
       "      <td>1</td>\n",
       "      <td>0</td>\n",
       "      <td>0</td>\n",
       "    </tr>\n",
       "    <tr>\n",
       "      <th>1</th>\n",
       "      <td>0</td>\n",
       "      <td>1</td>\n",
       "      <td>0</td>\n",
       "      <td>0</td>\n",
       "      <td>0</td>\n",
       "      <td>0</td>\n",
       "      <td>0</td>\n",
       "      <td>0</td>\n",
       "      <td>1</td>\n",
       "      <td>0</td>\n",
       "      <td>...</td>\n",
       "      <td>0</td>\n",
       "      <td>0</td>\n",
       "      <td>0</td>\n",
       "      <td>0</td>\n",
       "      <td>0</td>\n",
       "      <td>0</td>\n",
       "      <td>0</td>\n",
       "      <td>1</td>\n",
       "      <td>0</td>\n",
       "      <td>0</td>\n",
       "    </tr>\n",
       "    <tr>\n",
       "      <th>2</th>\n",
       "      <td>0</td>\n",
       "      <td>0</td>\n",
       "      <td>0</td>\n",
       "      <td>0</td>\n",
       "      <td>0</td>\n",
       "      <td>0</td>\n",
       "      <td>0</td>\n",
       "      <td>0</td>\n",
       "      <td>1</td>\n",
       "      <td>0</td>\n",
       "      <td>...</td>\n",
       "      <td>0</td>\n",
       "      <td>0</td>\n",
       "      <td>0</td>\n",
       "      <td>0</td>\n",
       "      <td>0</td>\n",
       "      <td>0</td>\n",
       "      <td>0</td>\n",
       "      <td>1</td>\n",
       "      <td>0</td>\n",
       "      <td>0</td>\n",
       "    </tr>\n",
       "    <tr>\n",
       "      <th>3</th>\n",
       "      <td>0</td>\n",
       "      <td>1</td>\n",
       "      <td>0</td>\n",
       "      <td>0</td>\n",
       "      <td>0</td>\n",
       "      <td>1</td>\n",
       "      <td>0</td>\n",
       "      <td>0</td>\n",
       "      <td>1</td>\n",
       "      <td>0</td>\n",
       "      <td>...</td>\n",
       "      <td>0</td>\n",
       "      <td>0</td>\n",
       "      <td>0</td>\n",
       "      <td>0</td>\n",
       "      <td>0</td>\n",
       "      <td>0</td>\n",
       "      <td>0</td>\n",
       "      <td>1</td>\n",
       "      <td>0</td>\n",
       "      <td>0</td>\n",
       "    </tr>\n",
       "    <tr>\n",
       "      <th>4</th>\n",
       "      <td>0</td>\n",
       "      <td>1</td>\n",
       "      <td>0</td>\n",
       "      <td>0</td>\n",
       "      <td>0</td>\n",
       "      <td>1</td>\n",
       "      <td>0</td>\n",
       "      <td>0</td>\n",
       "      <td>1</td>\n",
       "      <td>0</td>\n",
       "      <td>...</td>\n",
       "      <td>0</td>\n",
       "      <td>0</td>\n",
       "      <td>0</td>\n",
       "      <td>0</td>\n",
       "      <td>0</td>\n",
       "      <td>0</td>\n",
       "      <td>0</td>\n",
       "      <td>1</td>\n",
       "      <td>0</td>\n",
       "      <td>0</td>\n",
       "    </tr>\n",
       "  </tbody>\n",
       "</table>\n",
       "<p>5 rows × 132 columns</p>\n",
       "</div>"
      ],
      "text/plain": [
       "   race_Asian  race_Caucasian  race_Hispanic  race_Null  race_Other  \\\n",
       "0           0               1              0          0           0   \n",
       "1           0               1              0          0           0   \n",
       "2           0               0              0          0           0   \n",
       "3           0               1              0          0           0   \n",
       "4           0               1              0          0           0   \n",
       "\n",
       "   gender_Male  gender_Unknown/Invalid  max_glu_serum_>300  \\\n",
       "0            0                       0                   0   \n",
       "1            0                       0                   0   \n",
       "2            0                       0                   0   \n",
       "3            1                       0                   0   \n",
       "4            1                       0                   0   \n",
       "\n",
       "   max_glu_serum_None  max_glu_serum_Norm            ...             \\\n",
       "0                   1                   0            ...              \n",
       "1                   1                   0            ...              \n",
       "2                   1                   0            ...              \n",
       "3                   1                   0            ...              \n",
       "4                   1                   0            ...              \n",
       "\n",
       "   admission_source_id_9  med_spec_Emergency/Trauma  \\\n",
       "0                      0                          0   \n",
       "1                      0                          0   \n",
       "2                      0                          0   \n",
       "3                      0                          0   \n",
       "4                      0                          0   \n",
       "\n",
       "   med_spec_Family/GeneralPractice  med_spec_InternalMedicine  \\\n",
       "0                                0                          0   \n",
       "1                                0                          0   \n",
       "2                                0                          0   \n",
       "3                                0                          0   \n",
       "4                                0                          0   \n",
       "\n",
       "   med_spec_Nephrology  med_spec_Orthopedics  \\\n",
       "0                    0                     0   \n",
       "1                    0                     0   \n",
       "2                    0                     0   \n",
       "3                    0                     0   \n",
       "4                    0                     0   \n",
       "\n",
       "   med_spec_Orthopedics-Reconstructive  med_spec_Other  med_spec_Radiologist  \\\n",
       "0                                    0               1                     0   \n",
       "1                                    0               1                     0   \n",
       "2                                    0               1                     0   \n",
       "3                                    0               1                     0   \n",
       "4                                    0               1                     0   \n",
       "\n",
       "   med_spec_Surgery-General  \n",
       "0                         0  \n",
       "1                         0  \n",
       "2                         0  \n",
       "3                         0  \n",
       "4                         0  \n",
       "\n",
       "[5 rows x 132 columns]"
      ]
     },
     "execution_count": 28,
     "metadata": {},
     "output_type": "execute_result"
    }
   ],
   "source": [
    "data_cat.head()"
   ]
  },
  {
   "cell_type": "code",
   "execution_count": 29,
   "metadata": {},
   "outputs": [],
   "source": [
    "### Joining Categorical features to the main dataset ###\n",
    "data = pd.concat([data,data_cat], axis = 1)"
   ]
  },
  {
   "cell_type": "code",
   "execution_count": 30,
   "metadata": {},
   "outputs": [],
   "source": [
    "### Creating a list of all categorical features ###\n",
    "cols_all_cat = list(data_cat.columns)"
   ]
  },
  {
   "cell_type": "code",
   "execution_count": 31,
   "metadata": {},
   "outputs": [
    {
     "data": {
      "text/html": [
       "<div>\n",
       "<style scoped>\n",
       "    .dataframe tbody tr th:only-of-type {\n",
       "        vertical-align: middle;\n",
       "    }\n",
       "\n",
       "    .dataframe tbody tr th {\n",
       "        vertical-align: top;\n",
       "    }\n",
       "\n",
       "    .dataframe thead th {\n",
       "        text-align: right;\n",
       "    }\n",
       "</style>\n",
       "<table border=\"1\" class=\"dataframe\">\n",
       "  <thead>\n",
       "    <tr style=\"text-align: right;\">\n",
       "      <th></th>\n",
       "      <th>age</th>\n",
       "      <th>weight</th>\n",
       "    </tr>\n",
       "  </thead>\n",
       "  <tbody>\n",
       "    <tr>\n",
       "      <th>0</th>\n",
       "      <td>[0-10)</td>\n",
       "      <td>NaN</td>\n",
       "    </tr>\n",
       "    <tr>\n",
       "      <th>1</th>\n",
       "      <td>[10-20)</td>\n",
       "      <td>NaN</td>\n",
       "    </tr>\n",
       "    <tr>\n",
       "      <th>2</th>\n",
       "      <td>[20-30)</td>\n",
       "      <td>NaN</td>\n",
       "    </tr>\n",
       "    <tr>\n",
       "      <th>3</th>\n",
       "      <td>[30-40)</td>\n",
       "      <td>NaN</td>\n",
       "    </tr>\n",
       "    <tr>\n",
       "      <th>4</th>\n",
       "      <td>[40-50)</td>\n",
       "      <td>NaN</td>\n",
       "    </tr>\n",
       "  </tbody>\n",
       "</table>\n",
       "</div>"
      ],
      "text/plain": [
       "       age weight\n",
       "0   [0-10)    NaN\n",
       "1  [10-20)    NaN\n",
       "2  [20-30)    NaN\n",
       "3  [30-40)    NaN\n",
       "4  [40-50)    NaN"
      ]
     },
     "execution_count": 31,
     "metadata": {},
     "output_type": "execute_result"
    }
   ],
   "source": [
    "### Handling age and weight features which are special features in this dataset ### \n",
    "data[['age', 'weight']].head()"
   ]
  },
  {
   "cell_type": "code",
   "execution_count": 32,
   "metadata": {},
   "outputs": [
    {
     "data": {
      "text/plain": [
       "age\n",
       "[0-10)        160\n",
       "[10-20)       690\n",
       "[20-30)      1649\n",
       "[30-40)      3764\n",
       "[40-50)      9607\n",
       "[50-60)     17060\n",
       "[60-70)     22059\n",
       "[70-80)     25331\n",
       "[80-90)     16434\n",
       "[90-100)     2589\n",
       "dtype: int64"
      ]
     },
     "execution_count": 32,
     "metadata": {},
     "output_type": "execute_result"
    }
   ],
   "source": [
    "data.groupby('age').size()"
   ]
  },
  {
   "cell_type": "code",
   "execution_count": 33,
   "metadata": {},
   "outputs": [],
   "source": [
    "### Creating new ids for 'age' feature with name 'age_group' ###\n",
    "age_id = {'[0-10)':0, \n",
    "          '[10-20)':10, \n",
    "          '[20-30)':20, \n",
    "          '[30-40)':30, \n",
    "          '[40-50)':40, \n",
    "          '[50-60)':50,\n",
    "          '[60-70)':60, \n",
    "          '[70-80)':70, \n",
    "          '[80-90)':80, \n",
    "          '[90-100)':90}\n",
    "data['age_group'] = data.age.replace(age_id)"
   ]
  },
  {
   "cell_type": "code",
   "execution_count": 34,
   "metadata": {},
   "outputs": [
    {
     "name": "stdout",
     "output_type": "stream",
     "text": [
      "No patient weight reported: 96218\n",
      "Patient weight reported: 3125\n"
     ]
    }
   ],
   "source": [
    "print('No patient weight reported:', data.weight.isnull().sum())\n",
    "print('Patient weight reported:', data.weight.notnull().sum())"
   ]
  },
  {
   "cell_type": "code",
   "execution_count": null,
   "metadata": {},
   "outputs": [],
   "source": [
    "'''Patient weight is mostly missing'''"
   ]
  },
  {
   "cell_type": "code",
   "execution_count": 36,
   "metadata": {},
   "outputs": [],
   "source": [
    "### Using 'weight' feature to create a new feature named 'has_weight' ###\n",
    "data['has_weight'] = data.weight.notnull().astype('int')"
   ]
  },
  {
   "cell_type": "code",
   "execution_count": 37,
   "metadata": {},
   "outputs": [],
   "source": [
    "### Create a list of  special features ###\n",
    "cols_special = ['age_group','has_weight']"
   ]
  },
  {
   "cell_type": "code",
   "execution_count": 40,
   "metadata": {},
   "outputs": [
    {
     "name": "stdout",
     "output_type": "stream",
     "text": [
      "Total number of features: 142\n",
      "Numerical Features: 8\n",
      "Categorical Features: 132\n",
      "Extra features: 2\n"
     ]
    }
   ],
   "source": [
    "### Feature info after cleaning the data ###\n",
    "print('Total number of features:', len(cols_num + cols_all_cat + cols_special))\n",
    "print('Numerical Features:',len(cols_num))\n",
    "print('Categorical Features:',len(cols_all_cat))\n",
    "print('Extra features:',len(cols_special))"
   ]
  },
  {
   "cell_type": "code",
   "execution_count": 45,
   "metadata": {},
   "outputs": [
    {
     "data": {
      "text/plain": [
       "has_weight              0\n",
       "pioglitazone_No         0\n",
       "acarbose_No             0\n",
       "rosiglitazone_Up        0\n",
       "rosiglitazone_Steady    0\n",
       "rosiglitazone_No        0\n",
       "pioglitazone_Up         0\n",
       "pioglitazone_Steady     0\n",
       "tolbutamide_Steady      0\n",
       "acarbose_Up             0\n",
       "dtype: int64"
      ]
     },
     "execution_count": 45,
     "metadata": {},
     "output_type": "execute_result"
    }
   ],
   "source": [
    "### Making sure there is no more null in the cleaned data ###\n",
    "data[cols_num + cols_all_cat + cols_special].isnull().sum().sort_values(ascending = False).head(10)"
   ]
  },
  {
   "cell_type": "code",
   "execution_count": 44,
   "metadata": {},
   "outputs": [],
   "source": [
    "### Encoding multiclass target feature 'readmitted' ###\n",
    "from sklearn.preprocessing import LabelEncoder\n",
    "labelencoder = LabelEncoder()\n",
    "data['readmitted'] = labelencoder.fit_transform(data['readmitted'])"
   ]
  },
  {
   "cell_type": "code",
   "execution_count": 47,
   "metadata": {},
   "outputs": [
    {
     "data": {
      "text/html": [
       "<div>\n",
       "<style scoped>\n",
       "    .dataframe tbody tr th:only-of-type {\n",
       "        vertical-align: middle;\n",
       "    }\n",
       "\n",
       "    .dataframe tbody tr th {\n",
       "        vertical-align: top;\n",
       "    }\n",
       "\n",
       "    .dataframe thead th {\n",
       "        text-align: right;\n",
       "    }\n",
       "</style>\n",
       "<table border=\"1\" class=\"dataframe\">\n",
       "  <thead>\n",
       "    <tr style=\"text-align: right;\">\n",
       "      <th></th>\n",
       "      <th>time_in_hospital</th>\n",
       "      <th>num_lab_procedures</th>\n",
       "      <th>num_procedures</th>\n",
       "      <th>num_medications</th>\n",
       "      <th>number_outpatient</th>\n",
       "      <th>number_emergency</th>\n",
       "      <th>number_inpatient</th>\n",
       "      <th>number_diagnoses</th>\n",
       "      <th>race_Asian</th>\n",
       "      <th>race_Caucasian</th>\n",
       "      <th>...</th>\n",
       "      <th>med_spec_InternalMedicine</th>\n",
       "      <th>med_spec_Nephrology</th>\n",
       "      <th>med_spec_Orthopedics</th>\n",
       "      <th>med_spec_Orthopedics-Reconstructive</th>\n",
       "      <th>med_spec_Other</th>\n",
       "      <th>med_spec_Radiologist</th>\n",
       "      <th>med_spec_Surgery-General</th>\n",
       "      <th>age_group</th>\n",
       "      <th>has_weight</th>\n",
       "      <th>readmitted</th>\n",
       "    </tr>\n",
       "  </thead>\n",
       "  <tbody>\n",
       "    <tr>\n",
       "      <th>0</th>\n",
       "      <td>-1.138438</td>\n",
       "      <td>-0.097243</td>\n",
       "      <td>-0.783565</td>\n",
       "      <td>-1.850439</td>\n",
       "      <td>-0.291863</td>\n",
       "      <td>-0.211622</td>\n",
       "      <td>-0.500575</td>\n",
       "      <td>-3.298145</td>\n",
       "      <td>0</td>\n",
       "      <td>1</td>\n",
       "      <td>...</td>\n",
       "      <td>0</td>\n",
       "      <td>0</td>\n",
       "      <td>0</td>\n",
       "      <td>0</td>\n",
       "      <td>1</td>\n",
       "      <td>0</td>\n",
       "      <td>0</td>\n",
       "      <td>0</td>\n",
       "      <td>0</td>\n",
       "      <td>2</td>\n",
       "    </tr>\n",
       "    <tr>\n",
       "      <th>1</th>\n",
       "      <td>-0.464673</td>\n",
       "      <td>0.820659</td>\n",
       "      <td>-0.783565</td>\n",
       "      <td>0.249657</td>\n",
       "      <td>-0.291863</td>\n",
       "      <td>-0.211622</td>\n",
       "      <td>-0.500575</td>\n",
       "      <td>0.823436</td>\n",
       "      <td>0</td>\n",
       "      <td>1</td>\n",
       "      <td>...</td>\n",
       "      <td>0</td>\n",
       "      <td>0</td>\n",
       "      <td>0</td>\n",
       "      <td>0</td>\n",
       "      <td>1</td>\n",
       "      <td>0</td>\n",
       "      <td>0</td>\n",
       "      <td>10</td>\n",
       "      <td>0</td>\n",
       "      <td>1</td>\n",
       "    </tr>\n",
       "    <tr>\n",
       "      <th>2</th>\n",
       "      <td>-0.801555</td>\n",
       "      <td>-1.627080</td>\n",
       "      <td>2.152815</td>\n",
       "      <td>-0.368019</td>\n",
       "      <td>1.288995</td>\n",
       "      <td>-0.211622</td>\n",
       "      <td>0.292810</td>\n",
       "      <td>-0.722157</td>\n",
       "      <td>0</td>\n",
       "      <td>0</td>\n",
       "      <td>...</td>\n",
       "      <td>0</td>\n",
       "      <td>0</td>\n",
       "      <td>0</td>\n",
       "      <td>0</td>\n",
       "      <td>1</td>\n",
       "      <td>0</td>\n",
       "      <td>0</td>\n",
       "      <td>20</td>\n",
       "      <td>0</td>\n",
       "      <td>2</td>\n",
       "    </tr>\n",
       "    <tr>\n",
       "      <th>3</th>\n",
       "      <td>-0.801555</td>\n",
       "      <td>0.055741</td>\n",
       "      <td>-0.196289</td>\n",
       "      <td>0.002587</td>\n",
       "      <td>-0.291863</td>\n",
       "      <td>-0.211622</td>\n",
       "      <td>-0.500575</td>\n",
       "      <td>-0.206960</td>\n",
       "      <td>0</td>\n",
       "      <td>1</td>\n",
       "      <td>...</td>\n",
       "      <td>0</td>\n",
       "      <td>0</td>\n",
       "      <td>0</td>\n",
       "      <td>0</td>\n",
       "      <td>1</td>\n",
       "      <td>0</td>\n",
       "      <td>0</td>\n",
       "      <td>30</td>\n",
       "      <td>0</td>\n",
       "      <td>2</td>\n",
       "    </tr>\n",
       "    <tr>\n",
       "      <th>4</th>\n",
       "      <td>-1.138438</td>\n",
       "      <td>0.412703</td>\n",
       "      <td>-0.783565</td>\n",
       "      <td>-0.985694</td>\n",
       "      <td>-0.291863</td>\n",
       "      <td>-0.211622</td>\n",
       "      <td>-0.500575</td>\n",
       "      <td>-1.237355</td>\n",
       "      <td>0</td>\n",
       "      <td>1</td>\n",
       "      <td>...</td>\n",
       "      <td>0</td>\n",
       "      <td>0</td>\n",
       "      <td>0</td>\n",
       "      <td>0</td>\n",
       "      <td>1</td>\n",
       "      <td>0</td>\n",
       "      <td>0</td>\n",
       "      <td>40</td>\n",
       "      <td>0</td>\n",
       "      <td>2</td>\n",
       "    </tr>\n",
       "  </tbody>\n",
       "</table>\n",
       "<p>5 rows × 143 columns</p>\n",
       "</div>"
      ],
      "text/plain": [
       "   time_in_hospital  num_lab_procedures  num_procedures  num_medications  \\\n",
       "0         -1.138438           -0.097243       -0.783565        -1.850439   \n",
       "1         -0.464673            0.820659       -0.783565         0.249657   \n",
       "2         -0.801555           -1.627080        2.152815        -0.368019   \n",
       "3         -0.801555            0.055741       -0.196289         0.002587   \n",
       "4         -1.138438            0.412703       -0.783565        -0.985694   \n",
       "\n",
       "   number_outpatient  number_emergency  number_inpatient  number_diagnoses  \\\n",
       "0          -0.291863         -0.211622         -0.500575         -3.298145   \n",
       "1          -0.291863         -0.211622         -0.500575          0.823436   \n",
       "2           1.288995         -0.211622          0.292810         -0.722157   \n",
       "3          -0.291863         -0.211622         -0.500575         -0.206960   \n",
       "4          -0.291863         -0.211622         -0.500575         -1.237355   \n",
       "\n",
       "   race_Asian  race_Caucasian     ...      med_spec_InternalMedicine  \\\n",
       "0           0               1     ...                              0   \n",
       "1           0               1     ...                              0   \n",
       "2           0               0     ...                              0   \n",
       "3           0               1     ...                              0   \n",
       "4           0               1     ...                              0   \n",
       "\n",
       "   med_spec_Nephrology  med_spec_Orthopedics  \\\n",
       "0                    0                     0   \n",
       "1                    0                     0   \n",
       "2                    0                     0   \n",
       "3                    0                     0   \n",
       "4                    0                     0   \n",
       "\n",
       "   med_spec_Orthopedics-Reconstructive  med_spec_Other  med_spec_Radiologist  \\\n",
       "0                                    0               1                     0   \n",
       "1                                    0               1                     0   \n",
       "2                                    0               1                     0   \n",
       "3                                    0               1                     0   \n",
       "4                                    0               1                     0   \n",
       "\n",
       "   med_spec_Surgery-General  age_group  has_weight  readmitted  \n",
       "0                         0          0           0           2  \n",
       "1                         0         10           0           1  \n",
       "2                         0         20           0           2  \n",
       "3                         0         30           0           2  \n",
       "4                         0         40           0           2  \n",
       "\n",
       "[5 rows x 143 columns]"
      ]
     },
     "execution_count": 47,
     "metadata": {},
     "output_type": "execute_result"
    }
   ],
   "source": [
    "### Finalizing dataset to use for modeling by adding label encoded target feature 'readmitted' ###\n",
    "col2use = cols_num + cols_all_cat + cols_special\n",
    "data_ready = data[col2use + ['readmitted']]\n",
    "data_ready.head()"
   ]
  },
  {
   "cell_type": "code",
   "execution_count": 48,
   "metadata": {},
   "outputs": [
    {
     "data": {
      "text/plain": [
       "(99343, 143)"
      ]
     },
     "execution_count": 48,
     "metadata": {},
     "output_type": "execute_result"
    }
   ],
   "source": [
    "data_ready.shape"
   ]
  },
  {
   "cell_type": "code",
   "execution_count": 49,
   "metadata": {},
   "outputs": [],
   "source": [
    "### splitting data into train and test sets ###\n",
    "from sklearn.model_selection import train_test_split\n",
    "test_size = 0.2\n",
    "X_train, X_test, y_train, y_test = train_test_split(data_ready[col2use], data_ready['readmitted'], test_size=test_size, random_state=0)"
   ]
  },
  {
   "cell_type": "code",
   "execution_count": 50,
   "metadata": {},
   "outputs": [
    {
     "name": "stdout",
     "output_type": "stream",
     "text": [
      "(79474, 142)\n",
      "(19869, 142)\n",
      "(79474,)\n",
      "(19869,)\n"
     ]
    }
   ],
   "source": [
    "print(X_train.shape)\n",
    "print(X_test.shape)\n",
    "print(y_train.shape)\n",
    "print(y_test.shape)"
   ]
  },
  {
   "cell_type": "code",
   "execution_count": 53,
   "metadata": {},
   "outputs": [
    {
     "name": "stderr",
     "output_type": "stream",
     "text": [
      "C:\\Users\\FireAnt\\Anaconda3\\lib\\site-packages\\sklearn\\ensemble\\weight_boosting.py:29: DeprecationWarning: numpy.core.umath_tests is an internal NumPy module and should not be imported. It will be removed in a future NumPy release.\n",
      "  from numpy.core.umath_tests import inner1d\n"
     ]
    },
    {
     "data": {
      "text/plain": [
       "GradientBoostingClassifier(criterion='friedman_mse', init=None,\n",
       "              learning_rate=0.1, loss='deviance', max_depth=2,\n",
       "              max_features=None, max_leaf_nodes=None,\n",
       "              min_impurity_decrease=0.0, min_impurity_split=None,\n",
       "              min_samples_leaf=1, min_samples_split=2,\n",
       "              min_weight_fraction_leaf=0.0, n_estimators=200,\n",
       "              presort='auto', random_state=0, subsample=1.0, verbose=0,\n",
       "              warm_start=False)"
      ]
     },
     "execution_count": 53,
     "metadata": {},
     "output_type": "execute_result"
    }
   ],
   "source": [
    "### Using Gradinet Boosting Classifiaer to get feature importance ###\n",
    "### Gradient boosting ###\n",
    "from sklearn.ensemble import GradientBoostingClassifier\n",
    "gbc =GradientBoostingClassifier(n_estimators=200, learning_rate=0.10,\n",
    "     max_depth=2, random_state=0)\n",
    "gbc.fit(X_train, y_train)"
   ]
  },
  {
   "cell_type": "code",
   "execution_count": 57,
   "metadata": {},
   "outputs": [],
   "source": [
    "gbc_feature_importances = pd.DataFrame(gbc.feature_importances_,\n",
    "                                   index = col2use,\n",
    "                                    columns=['importance']).sort_values('importance',\n",
    "                                                                        ascending=False)"
   ]
  },
  {
   "cell_type": "code",
   "execution_count": 58,
   "metadata": {},
   "outputs": [
    {
     "data": {
      "text/plain": [
       "([<matplotlib.axis.YTick at 0x1df527e7048>,\n",
       "  <matplotlib.axis.YTick at 0x1df527de940>,\n",
       "  <matplotlib.axis.YTick at 0x1df527c1668>,\n",
       "  <matplotlib.axis.YTick at 0x1df52b74470>,\n",
       "  <matplotlib.axis.YTick at 0x1df52b74908>,\n",
       "  <matplotlib.axis.YTick at 0x1df52b74dd8>,\n",
       "  <matplotlib.axis.YTick at 0x1df52b74860>,\n",
       "  <matplotlib.axis.YTick at 0x1df52b85080>,\n",
       "  <matplotlib.axis.YTick at 0x1df52b85898>,\n",
       "  <matplotlib.axis.YTick at 0x1df52b85d68>,\n",
       "  <matplotlib.axis.YTick at 0x1df52b8d278>,\n",
       "  <matplotlib.axis.YTick at 0x1df52b8d748>,\n",
       "  <matplotlib.axis.YTick at 0x1df52b8dc18>,\n",
       "  <matplotlib.axis.YTick at 0x1df52b97160>,\n",
       "  <matplotlib.axis.YTick at 0x1df52b975f8>,\n",
       "  <matplotlib.axis.YTick at 0x1df52b8d7f0>,\n",
       "  <matplotlib.axis.YTick at 0x1df52b85be0>,\n",
       "  <matplotlib.axis.YTick at 0x1df52b97898>,\n",
       "  <matplotlib.axis.YTick at 0x1df52b97f28>,\n",
       "  <matplotlib.axis.YTick at 0x1df52b9f470>],\n",
       " <a list of 20 Text yticklabel objects>)"
      ]
     },
     "execution_count": 58,
     "metadata": {},
     "output_type": "execute_result"
    },
    {
     "data": {
      "image/png": "[encoded data removed]",
      "text/plain": [
       "<Figure size 640x1200 with 1 Axes>"
      ]
     },
     "metadata": {},
     "output_type": "display_data"
    }
   ],
   "source": [
    "### Plotting 20 more important features ###\n",
    "import matplotlib.pyplot as plt\n",
    "num = 20\n",
    "ylocs = np.arange(num)\n",
    "# get the feature importance for top num and sort in reverse order\n",
    "values_to_plot = gbc_feature_importances.iloc[:num].values.ravel()[::-1]\n",
    "feature_labels = list(gbc_feature_importances.iloc[:num].index)[::-1]\n",
    "plt.figure(num=None, figsize=(8, 15), dpi=80, facecolor='w', edgecolor='k');\n",
    "plt.barh(ylocs, values_to_plot, align = 'center')\n",
    "plt.ylabel('Features')\n",
    "plt.xlabel('Importance Score')\n",
    "plt.title('Feature Importance Score - Gradient Boosting Classifier')\n",
    "plt.yticks(ylocs, feature_labels)"
   ]
  },
  {
   "cell_type": "code",
   "execution_count": 59,
   "metadata": {},
   "outputs": [],
   "source": [
    "### Creating a list of 20 most important features ###\n",
    "important_features= gbc_feature_importances.iloc[:20].index\n",
    "\n",
    "importance_features=['number_inpatient', 'num_medications', 'payer_code_Null',\n",
    "       'number_emergency', 'age_group', 'num_lab_procedures',\n",
    "       'discharge_disposition_id_3', 'time_in_hospital',\n",
    "       'discharge_disposition_id_22', 'number_outpatient', 'number_diagnoses',\n",
    "       'num_procedures', 'admission_type_id_6', 'admission_source_id_4',\n",
    "       'has_weight', 'discharge_disposition_id_5', 'admission_source_id_7',\n",
    "       'diabetesMed_Yes', 'discharge_disposition_id_2', 'payer_code_MC']"
   ]
  },
  {
   "cell_type": "code",
   "execution_count": 61,
   "metadata": {},
   "outputs": [],
   "source": [
    "### Creating traning and testing dataset using 20 extracted important features ###\n",
    "X_train_20F= X_train[importance_features]\n",
    "X_test_20F=X_test[importance_features]"
   ]
  },
  {
   "cell_type": "code",
   "execution_count": 63,
   "metadata": {
    "scrolled": true
   },
   "outputs": [
    {
     "name": "stdout",
     "output_type": "stream",
     "text": [
      "WARNING:tensorflow:From C:\\Users\\FireAnt\\Anaconda3\\lib\\site-packages\\tensorflow\\python\\ops\\resource_variable_ops.py:435: colocate_with (from tensorflow.python.framework.ops) is deprecated and will be removed in a future version.\n",
      "Instructions for updating:\n",
      "Colocations handled automatically by placer.\n",
      "Epoch 1/100\n",
      "79474/79474 [==============================] - 2s 22us/step - loss: 0.9205 - accuracy: 0.5593\n",
      "Epoch 2/100\n",
      "79474/79474 [==============================] - 2s 21us/step - loss: 0.9023 - accuracy: 0.5707\n",
      "Epoch 3/100\n",
      "79474/79474 [==============================] - 2s 21us/step - loss: 0.8991 - accuracy: 0.5726\n",
      "Epoch 4/100\n",
      "79474/79474 [==============================] - 2s 21us/step - loss: 0.8975 - accuracy: 0.5732\n",
      "Epoch 5/100\n",
      "79474/79474 [==============================] - 2s 24us/step - loss: 0.8959 - accuracy: 0.5751\n",
      "Epoch 6/100\n",
      "79474/79474 [==============================] - 2s 21us/step - loss: 0.8951 - accuracy: 0.5753\n",
      "Epoch 7/100\n",
      "79474/79474 [==============================] - 2s 21us/step - loss: 0.8948 - accuracy: 0.5743\n",
      "Epoch 8/100\n",
      "79474/79474 [==============================] - 2s 21us/step - loss: 0.8941 - accuracy: 0.5747\n",
      "Epoch 9/100\n",
      "79474/79474 [==============================] - 2s 21us/step - loss: 0.8937 - accuracy: 0.5754\n",
      "Epoch 10/100\n",
      "79474/79474 [==============================] - 2s 21us/step - loss: 0.8932 - accuracy: 0.5754\n",
      "Epoch 11/100\n",
      "79474/79474 [==============================] - 2s 21us/step - loss: 0.8933 - accuracy: 0.5763\n",
      "Epoch 12/100\n",
      "79474/79474 [==============================] - 2s 21us/step - loss: 0.8928 - accuracy: 0.5755\n",
      "Epoch 13/100\n",
      "79474/79474 [==============================] - 2s 21us/step - loss: 0.8926 - accuracy: 0.5757\n",
      "Epoch 14/100\n",
      "79474/79474 [==============================] - 2s 21us/step - loss: 0.8927 - accuracy: 0.5752\n",
      "Epoch 15/100\n",
      "79474/79474 [==============================] - ETA: 0s - loss: 0.8929 - accuracy: 0.57 - 2s 21us/step - loss: 0.8925 - accuracy: 0.5765\n",
      "Epoch 16/100\n",
      "79474/79474 [==============================] - 2s 21us/step - loss: 0.8919 - accuracy: 0.5758\n",
      "Epoch 17/100\n",
      "79474/79474 [==============================] - 2s 21us/step - loss: 0.8920 - accuracy: 0.5763\n",
      "Epoch 18/100\n",
      "79474/79474 [==============================] - 2s 21us/step - loss: 0.8915 - accuracy: 0.5765\n",
      "Epoch 19/100\n",
      "79474/79474 [==============================] - 2s 21us/step - loss: 0.8916 - accuracy: 0.5771\n",
      "Epoch 20/100\n",
      "79474/79474 [==============================] - 2s 21us/step - loss: 0.8912 - accuracy: 0.5767\n",
      "Epoch 21/100\n",
      "79474/79474 [==============================] - 2s 21us/step - loss: 0.8912 - accuracy: 0.5775\n",
      "Epoch 22/100\n",
      "79474/79474 [==============================] - 2s 21us/step - loss: 0.8909 - accuracy: 0.5778\n",
      "Epoch 23/100\n",
      "79474/79474 [==============================] - 2s 21us/step - loss: 0.8906 - accuracy: 0.5776\n",
      "Epoch 24/100\n",
      "79474/79474 [==============================] - 2s 21us/step - loss: 0.8907 - accuracy: 0.5774\n",
      "Epoch 25/100\n",
      "79474/79474 [==============================] - 2s 21us/step - loss: 0.8909 - accuracy: 0.5774\n",
      "Epoch 26/100\n",
      "79474/79474 [==============================] - 2s 21us/step - loss: 0.8903 - accuracy: 0.5770\n",
      "Epoch 27/100\n",
      "79474/79474 [==============================] - 2s 21us/step - loss: 0.8901 - accuracy: 0.5785\n",
      "Epoch 28/100\n",
      "79474/79474 [==============================] - 2s 22us/step - loss: 0.8902 - accuracy: 0.5762\n",
      "Epoch 29/100\n",
      "79474/79474 [==============================] - 2s 21us/step - loss: 0.8899 - accuracy: 0.5768\n",
      "Epoch 30/100\n",
      "79474/79474 [==============================] - 2s 21us/step - loss: 0.8898 - accuracy: 0.5771\n",
      "Epoch 31/100\n",
      "79474/79474 [==============================] - 2s 21us/step - loss: 0.8897 - accuracy: 0.5767\n",
      "Epoch 32/100\n",
      "79474/79474 [==============================] - 2s 21us/step - loss: 0.8895 - accuracy: 0.5775\n",
      "Epoch 33/100\n",
      "79474/79474 [==============================] - 2s 22us/step - loss: 0.8897 - accuracy: 0.5772\n",
      "Epoch 34/100\n",
      "79474/79474 [==============================] - 2s 21us/step - loss: 0.8893 - accuracy: 0.5784\n",
      "Epoch 35/100\n",
      "79474/79474 [==============================] - 2s 21us/step - loss: 0.8893 - accuracy: 0.5780\n",
      "Epoch 36/100\n",
      "79474/79474 [==============================] - 2s 21us/step - loss: 0.8889 - accuracy: 0.5778\n",
      "Epoch 37/100\n",
      "79474/79474 [==============================] - 2s 22us/step - loss: 0.8892 - accuracy: 0.5776\n",
      "Epoch 38/100\n",
      "79474/79474 [==============================] - 2s 21us/step - loss: 0.8891 - accuracy: 0.5785\n",
      "Epoch 39/100\n",
      "79474/79474 [==============================] - 2s 21us/step - loss: 0.8890 - accuracy: 0.5781\n",
      "Epoch 40/100\n",
      "79474/79474 [==============================] - 2s 21us/step - loss: 0.8891 - accuracy: 0.5777\n",
      "Epoch 41/100\n",
      "79474/79474 [==============================] - 2s 21us/step - loss: 0.8888 - accuracy: 0.5782\n",
      "Epoch 42/100\n",
      "79474/79474 [==============================] - 2s 21us/step - loss: 0.8889 - accuracy: 0.5778\n",
      "Epoch 43/100\n",
      "79474/79474 [==============================] - 2s 22us/step - loss: 0.8884 - accuracy: 0.5780\n",
      "Epoch 44/100\n",
      "79474/79474 [==============================] - 2s 22us/step - loss: 0.8883 - accuracy: 0.5793\n",
      "Epoch 45/100\n",
      "79474/79474 [==============================] - 2s 23us/step - loss: 0.8889 - accuracy: 0.5774\n",
      "Epoch 46/100\n",
      "79474/79474 [==============================] - 2s 22us/step - loss: 0.8885 - accuracy: 0.5779\n",
      "Epoch 47/100\n",
      "79474/79474 [==============================] - 2s 23us/step - loss: 0.8886 - accuracy: 0.5777\n",
      "Epoch 48/100\n",
      "79474/79474 [==============================] - 2s 22us/step - loss: 0.8883 - accuracy: 0.5787\n",
      "Epoch 49/100\n",
      "79474/79474 [==============================] - 2s 21us/step - loss: 0.8882 - accuracy: 0.5775\n",
      "Epoch 50/100\n",
      "79474/79474 [==============================] - 2s 21us/step - loss: 0.8883 - accuracy: 0.5782\n",
      "Epoch 51/100\n",
      "79474/79474 [==============================] - 2s 22us/step - loss: 0.8881 - accuracy: 0.5778\n",
      "Epoch 52/100\n",
      "79474/79474 [==============================] - 2s 21us/step - loss: 0.8879 - accuracy: 0.5787\n",
      "Epoch 53/100\n",
      "79474/79474 [==============================] - 2s 23us/step - loss: 0.8879 - accuracy: 0.5788\n",
      "Epoch 54/100\n",
      "79474/79474 [==============================] - 2s 22us/step - loss: 0.8880 - accuracy: 0.5786\n",
      "Epoch 55/100\n",
      "79474/79474 [==============================] - 2s 22us/step - loss: 0.8880 - accuracy: 0.5788\n",
      "Epoch 56/100\n",
      "79474/79474 [==============================] - 2s 23us/step - loss: 0.8879 - accuracy: 0.5788\n",
      "Epoch 57/100\n",
      "79474/79474 [==============================] - 2s 21us/step - loss: 0.8879 - accuracy: 0.5777\n",
      "Epoch 58/100\n",
      "79474/79474 [==============================] - 2s 21us/step - loss: 0.8874 - accuracy: 0.5789\n",
      "Epoch 59/100\n",
      "79474/79474 [==============================] - 2s 21us/step - loss: 0.8877 - accuracy: 0.5786\n",
      "Epoch 60/100\n",
      "79474/79474 [==============================] - 2s 21us/step - loss: 0.8878 - accuracy: 0.5785\n",
      "Epoch 61/100\n",
      "79474/79474 [==============================] - 2s 21us/step - loss: 0.8875 - accuracy: 0.5790\n",
      "Epoch 62/100\n",
      "79474/79474 [==============================] - 2s 21us/step - loss: 0.8874 - accuracy: 0.5781\n",
      "Epoch 63/100\n",
      "79474/79474 [==============================] - 2s 21us/step - loss: 0.8875 - accuracy: 0.5772\n",
      "Epoch 64/100\n",
      "79474/79474 [==============================] - 2s 21us/step - loss: 0.8875 - accuracy: 0.5794\n",
      "Epoch 65/100\n",
      "79474/79474 [==============================] - 2s 22us/step - loss: 0.8873 - accuracy: 0.5783\n",
      "Epoch 66/100\n",
      "79474/79474 [==============================] - 2s 21us/step - loss: 0.8873 - accuracy: 0.5783\n",
      "Epoch 67/100\n",
      "79474/79474 [==============================] - 2s 22us/step - loss: 0.8872 - accuracy: 0.5786\n",
      "Epoch 68/100\n",
      "79474/79474 [==============================] - 2s 21us/step - loss: 0.8872 - accuracy: 0.5790\n",
      "Epoch 69/100\n",
      "79474/79474 [==============================] - 2s 21us/step - loss: 0.8874 - accuracy: 0.5781\n",
      "Epoch 70/100\n",
      "79474/79474 [==============================] - 2s 22us/step - loss: 0.8872 - accuracy: 0.5794\n",
      "Epoch 71/100\n",
      "79474/79474 [==============================] - 2s 21us/step - loss: 0.8874 - accuracy: 0.5790\n",
      "Epoch 72/100\n",
      "79474/79474 [==============================] - 2s 22us/step - loss: 0.8874 - accuracy: 0.5793\n",
      "Epoch 73/100\n",
      "79474/79474 [==============================] - 2s 21us/step - loss: 0.8873 - accuracy: 0.5785\n",
      "Epoch 74/100\n"
     ]
    },
    {
     "name": "stdout",
     "output_type": "stream",
     "text": [
      "79474/79474 [==============================] - 2s 22us/step - loss: 0.8870 - accuracy: 0.5803\n",
      "Epoch 75/100\n",
      "79474/79474 [==============================] - 2s 21us/step - loss: 0.8872 - accuracy: 0.5782\n",
      "Epoch 76/100\n",
      "79474/79474 [==============================] - 2s 21us/step - loss: 0.8873 - accuracy: 0.5789\n",
      "Epoch 77/100\n",
      "79474/79474 [==============================] - 2s 21us/step - loss: 0.8868 - accuracy: 0.5792\n",
      "Epoch 78/100\n",
      "79474/79474 [==============================] - 2s 21us/step - loss: 0.8872 - accuracy: 0.5785\n",
      "Epoch 79/100\n",
      "79474/79474 [==============================] - 2s 21us/step - loss: 0.8869 - accuracy: 0.5796\n",
      "Epoch 80/100\n",
      "79474/79474 [==============================] - 2s 22us/step - loss: 0.8869 - accuracy: 0.5794\n",
      "Epoch 81/100\n",
      "79474/79474 [==============================] - 2s 21us/step - loss: 0.8871 - accuracy: 0.5798\n",
      "Epoch 82/100\n",
      "79474/79474 [==============================] - 2s 22us/step - loss: 0.8867 - accuracy: 0.5791\n",
      "Epoch 83/100\n",
      "79474/79474 [==============================] - 2s 22us/step - loss: 0.8868 - accuracy: 0.5788\n",
      "Epoch 84/100\n",
      "79474/79474 [==============================] - 2s 22us/step - loss: 0.8869 - accuracy: 0.5791\n",
      "Epoch 85/100\n",
      "79474/79474 [==============================] - 2s 23us/step - loss: 0.8870 - accuracy: 0.5790\n",
      "Epoch 86/100\n",
      "79474/79474 [==============================] - 2s 21us/step - loss: 0.8866 - accuracy: 0.5787\n",
      "Epoch 87/100\n",
      "79474/79474 [==============================] - 2s 22us/step - loss: 0.8869 - accuracy: 0.5794\n",
      "Epoch 88/100\n",
      "79474/79474 [==============================] - 2s 21us/step - loss: 0.8868 - accuracy: 0.5797\n",
      "Epoch 89/100\n",
      "79474/79474 [==============================] - 2s 21us/step - loss: 0.8870 - accuracy: 0.5782\n",
      "Epoch 90/100\n",
      "79474/79474 [==============================] - 2s 21us/step - loss: 0.8867 - accuracy: 0.5795\n",
      "Epoch 91/100\n",
      "79474/79474 [==============================] - 2s 21us/step - loss: 0.8869 - accuracy: 0.5782\n",
      "Epoch 92/100\n",
      "79474/79474 [==============================] - 2s 21us/step - loss: 0.8867 - accuracy: 0.5787\n",
      "Epoch 93/100\n",
      "79474/79474 [==============================] - 2s 22us/step - loss: 0.8866 - accuracy: 0.5792\n",
      "Epoch 94/100\n",
      "79474/79474 [==============================] - 2s 21us/step - loss: 0.8866 - accuracy: 0.5803\n",
      "Epoch 95/100\n",
      "79474/79474 [==============================] - 2s 21us/step - loss: 0.8865 - accuracy: 0.5792\n",
      "Epoch 96/100\n",
      "79474/79474 [==============================] - 2s 21us/step - loss: 0.8868 - accuracy: 0.5793\n",
      "Epoch 97/100\n",
      "79474/79474 [==============================] - 2s 22us/step - loss: 0.8869 - accuracy: 0.5795\n",
      "Epoch 98/100\n",
      "79474/79474 [==============================] - 2s 21us/step - loss: 0.8868 - accuracy: 0.5790\n",
      "Epoch 99/100\n",
      "79474/79474 [==============================] - 2s 21us/step - loss: 0.8867 - accuracy: 0.5787\n",
      "Epoch 100/100\n",
      "79474/79474 [==============================] - 2s 21us/step - loss: 0.8867 - accuracy: 0.5787\n"
     ]
    },
    {
     "data": {
      "text/plain": [
       "<keras.callbacks.callbacks.History at 0x1df52813e10>"
      ]
     },
     "execution_count": 63,
     "metadata": {},
     "output_type": "execute_result"
    }
   ],
   "source": [
    "### Training Sequential Neural Nets for classification using 20 most important features ###\n",
    "import keras\n",
    "from keras.models import Sequential\n",
    "from keras.layers import Dense\n",
    "# Initialising the ANN\n",
    "classifier_20F = Sequential()\n",
    "# Adding the input layer and the first hidden layer\n",
    "classifier_20F.add(Dense(units =15 , kernel_initializer = 'uniform', activation = 'relu', input_dim = 20))\n",
    "# Adding the second hidden layer\n",
    "classifier_20F.add(Dense(units = 15, kernel_initializer = 'uniform', activation = 'relu'))\n",
    "# Adding the output layer\n",
    "classifier_20F.add(Dense(units = 3, kernel_initializer = 'uniform', activation = 'softmax'))\n",
    "# Compiling the ANN\n",
    "classifier_20F.compile(optimizer = 'adam', loss = 'sparse_categorical_crossentropy', metrics = ['accuracy'])\n",
    "# Fitting the ANN to the Training set\n",
    "classifier_20F.fit(X_train_20F, y_train, batch_size = 32, epochs = 100)"
   ]
  },
  {
   "cell_type": "code",
   "execution_count": 64,
   "metadata": {
    "scrolled": true
   },
   "outputs": [
    {
     "name": "stdout",
     "output_type": "stream",
     "text": [
      "Epoch 1/100\n",
      "79474/79474 [==============================] - 2s 25us/step - loss: 0.9206 - accuracy: 0.5542\n",
      "Epoch 2/100\n",
      "79474/79474 [==============================] - 2s 27us/step - loss: 0.8966 - accuracy: 0.5742\n",
      "Epoch 3/100\n",
      "79474/79474 [==============================] - 2s 25us/step - loss: 0.8937 - accuracy: 0.5765\n",
      "Epoch 4/100\n",
      "79474/79474 [==============================] - 2s 24us/step - loss: 0.8916 - accuracy: 0.5777\n",
      "Epoch 5/100\n",
      "79474/79474 [==============================] - 2s 24us/step - loss: 0.8903 - accuracy: 0.5771\n",
      "Epoch 6/100\n",
      "79474/79474 [==============================] - 2s 25us/step - loss: 0.8894 - accuracy: 0.5771\n",
      "Epoch 7/100\n",
      "79474/79474 [==============================] - 2s 24us/step - loss: 0.8885 - accuracy: 0.5784\n",
      "Epoch 8/100\n",
      "79474/79474 [==============================] - 2s 24us/step - loss: 0.8880 - accuracy: 0.5795\n",
      "Epoch 9/100\n",
      "79474/79474 [==============================] - 2s 24us/step - loss: 0.8876 - accuracy: 0.5801\n",
      "Epoch 10/100\n",
      "79474/79474 [==============================] - 2s 26us/step - loss: 0.8865 - accuracy: 0.5799\n",
      "Epoch 11/100\n",
      "79474/79474 [==============================] - 2s 24us/step - loss: 0.8860 - accuracy: 0.5796\n",
      "Epoch 12/100\n",
      "79474/79474 [==============================] - 2s 25us/step - loss: 0.8858 - accuracy: 0.5801\n",
      "Epoch 13/100\n",
      "79474/79474 [==============================] - 2s 25us/step - loss: 0.8854 - accuracy: 0.5803\n",
      "Epoch 14/100\n",
      "79474/79474 [==============================] - 2s 24us/step - loss: 0.8849 - accuracy: 0.5812\n",
      "Epoch 15/100\n",
      "79474/79474 [==============================] - 2s 24us/step - loss: 0.8849 - accuracy: 0.5803\n",
      "Epoch 16/100\n",
      "79474/79474 [==============================] - 2s 24us/step - loss: 0.8841 - accuracy: 0.5824\n",
      "Epoch 17/100\n",
      "79474/79474 [==============================] - 2s 24us/step - loss: 0.8840 - accuracy: 0.5814\n",
      "Epoch 18/100\n",
      "79474/79474 [==============================] - 2s 25us/step - loss: 0.8838 - accuracy: 0.5815\n",
      "Epoch 19/100\n",
      "79474/79474 [==============================] - 2s 24us/step - loss: 0.8834 - accuracy: 0.5816\n",
      "Epoch 20/100\n",
      "79474/79474 [==============================] - 2s 24us/step - loss: 0.8833 - accuracy: 0.5822\n",
      "Epoch 21/100\n",
      "79474/79474 [==============================] - 2s 25us/step - loss: 0.8832 - accuracy: 0.5823\n",
      "Epoch 22/100\n",
      "79474/79474 [==============================] - 2s 25us/step - loss: 0.8829 - accuracy: 0.5825\n",
      "Epoch 23/100\n",
      "79474/79474 [==============================] - 2s 25us/step - loss: 0.8826 - accuracy: 0.5820\n",
      "Epoch 24/100\n",
      "79474/79474 [==============================] - 2s 25us/step - loss: 0.8827 - accuracy: 0.5828\n",
      "Epoch 25/100\n",
      "79474/79474 [==============================] - 2s 24us/step - loss: 0.8820 - accuracy: 0.5835\n",
      "Epoch 26/100\n",
      "79474/79474 [==============================] - 2s 27us/step - loss: 0.8818 - accuracy: 0.5825\n",
      "Epoch 27/100\n",
      "79474/79474 [==============================] - 2s 25us/step - loss: 0.8817 - accuracy: 0.5828\n",
      "Epoch 28/100\n",
      "79474/79474 [==============================] - 2s 26us/step - loss: 0.8813 - accuracy: 0.5832\n",
      "Epoch 29/100\n",
      "79474/79474 [==============================] - 2s 24us/step - loss: 0.8816 - accuracy: 0.5832\n",
      "Epoch 30/100\n",
      "79474/79474 [==============================] - 2s 25us/step - loss: 0.8811 - accuracy: 0.5836\n",
      "Epoch 31/100\n",
      "79474/79474 [==============================] - 2s 25us/step - loss: 0.8810 - accuracy: 0.5837\n",
      "Epoch 32/100\n",
      "79474/79474 [==============================] - 2s 24us/step - loss: 0.8804 - accuracy: 0.5836\n",
      "Epoch 33/100\n",
      "79474/79474 [==============================] - 2s 25us/step - loss: 0.8806 - accuracy: 0.5848\n",
      "Epoch 34/100\n",
      "79474/79474 [==============================] - 2s 26us/step - loss: 0.8801 - accuracy: 0.5844\n",
      "Epoch 35/100\n",
      "79474/79474 [==============================] - 2s 25us/step - loss: 0.8798 - accuracy: 0.5846\n",
      "Epoch 36/100\n",
      "79474/79474 [==============================] - 2s 24us/step - loss: 0.8798 - accuracy: 0.5840\n",
      "Epoch 37/100\n",
      "79474/79474 [==============================] - 2s 24us/step - loss: 0.8793 - accuracy: 0.5851\n",
      "Epoch 38/100\n",
      "79474/79474 [==============================] - 2s 24us/step - loss: 0.8794 - accuracy: 0.5847\n",
      "Epoch 39/100\n",
      "79474/79474 [==============================] - 2s 26us/step - loss: 0.8787 - accuracy: 0.5852\n",
      "Epoch 40/100\n",
      "79474/79474 [==============================] - 2s 25us/step - loss: 0.8790 - accuracy: 0.5847\n",
      "Epoch 41/100\n",
      "79474/79474 [==============================] - 2s 25us/step - loss: 0.8786 - accuracy: 0.5854\n",
      "Epoch 42/100\n",
      "79474/79474 [==============================] - 2s 26us/step - loss: 0.8789 - accuracy: 0.5846\n",
      "Epoch 43/100\n",
      "79474/79474 [==============================] - 2s 24us/step - loss: 0.8784 - accuracy: 0.5845\n",
      "Epoch 44/100\n",
      "79474/79474 [==============================] - 2s 25us/step - loss: 0.8780 - accuracy: 0.5856\n",
      "Epoch 45/100\n",
      "79474/79474 [==============================] - 2s 25us/step - loss: 0.8781 - accuracy: 0.5853\n",
      "Epoch 46/100\n",
      "79474/79474 [==============================] - 2s 25us/step - loss: 0.8778 - accuracy: 0.5858\n",
      "Epoch 47/100\n",
      "79474/79474 [==============================] - 2s 26us/step - loss: 0.8786 - accuracy: 0.5848\n",
      "Epoch 48/100\n",
      "79474/79474 [==============================] - 2s 26us/step - loss: 0.8774 - accuracy: 0.5853\n",
      "Epoch 49/100\n",
      "79474/79474 [==============================] - 2s 25us/step - loss: 0.8775 - accuracy: 0.5859\n",
      "Epoch 50/100\n",
      "79474/79474 [==============================] - 2s 25us/step - loss: 0.8776 - accuracy: 0.5856\n",
      "Epoch 51/100\n",
      "79474/79474 [==============================] - 2s 24us/step - loss: 0.8771 - accuracy: 0.5856\n",
      "Epoch 52/100\n",
      "79474/79474 [==============================] - 2s 24us/step - loss: 0.8775 - accuracy: 0.5860\n",
      "Epoch 53/100\n",
      "79474/79474 [==============================] - 2s 24us/step - loss: 0.8770 - accuracy: 0.5863\n",
      "Epoch 54/100\n",
      "79474/79474 [==============================] - 2s 24us/step - loss: 0.8773 - accuracy: 0.5842\n",
      "Epoch 55/100\n",
      "79474/79474 [==============================] - 2s 24us/step - loss: 0.8768 - accuracy: 0.5851\n",
      "Epoch 56/100\n",
      "79474/79474 [==============================] - 2s 25us/step - loss: 0.8769 - accuracy: 0.5854\n",
      "Epoch 57/100\n",
      "79474/79474 [==============================] - 2s 24us/step - loss: 0.8766 - accuracy: 0.5858\n",
      "Epoch 58/100\n",
      "79474/79474 [==============================] - 2s 24us/step - loss: 0.8767 - accuracy: 0.5859\n",
      "Epoch 59/100\n",
      "79474/79474 [==============================] - 2s 25us/step - loss: 0.8766 - accuracy: 0.5858\n",
      "Epoch 60/100\n",
      "79474/79474 [==============================] - 2s 24us/step - loss: 0.8768 - accuracy: 0.5861\n",
      "Epoch 61/100\n",
      "79474/79474 [==============================] - 2s 24us/step - loss: 0.8766 - accuracy: 0.5859\n",
      "Epoch 62/100\n",
      "79474/79474 [==============================] - 2s 24us/step - loss: 0.8764 - accuracy: 0.5861\n",
      "Epoch 63/100\n",
      "79474/79474 [==============================] - 2s 24us/step - loss: 0.8762 - accuracy: 0.5859\n",
      "Epoch 64/100\n",
      "79474/79474 [==============================] - 2s 24us/step - loss: 0.8761 - accuracy: 0.5866\n",
      "Epoch 65/100\n",
      "79474/79474 [==============================] - 2s 26us/step - loss: 0.8763 - accuracy: 0.5851\n",
      "Epoch 66/100\n",
      "79474/79474 [==============================] - 2s 26us/step - loss: 0.8759 - accuracy: 0.5863\n",
      "Epoch 67/100\n",
      "79474/79474 [==============================] - 2s 25us/step - loss: 0.8759 - accuracy: 0.5872\n",
      "Epoch 68/100\n",
      "79474/79474 [==============================] - 2s 24us/step - loss: 0.8759 - accuracy: 0.5868\n",
      "Epoch 69/100\n",
      "79474/79474 [==============================] - 2s 24us/step - loss: 0.8759 - accuracy: 0.5865\n",
      "Epoch 70/100\n",
      "79474/79474 [==============================] - 2s 24us/step - loss: 0.8756 - accuracy: 0.5864\n",
      "Epoch 71/100\n",
      "79474/79474 [==============================] - 2s 24us/step - loss: 0.8756 - accuracy: 0.5870\n",
      "Epoch 72/100\n",
      "79474/79474 [==============================] - 2s 24us/step - loss: 0.8757 - accuracy: 0.5867\n",
      "Epoch 73/100\n",
      "79474/79474 [==============================] - 2s 24us/step - loss: 0.8755 - accuracy: 0.5868\n",
      "Epoch 74/100\n",
      "79474/79474 [==============================] - 2s 24us/step - loss: 0.8753 - accuracy: 0.5867\n",
      "Epoch 75/100\n",
      "79474/79474 [==============================] - 2s 25us/step - loss: 0.8753 - accuracy: 0.5878\n",
      "Epoch 76/100\n",
      "79474/79474 [==============================] - 2s 24us/step - loss: 0.8752 - accuracy: 0.5864\n",
      "Epoch 77/100\n"
     ]
    },
    {
     "name": "stdout",
     "output_type": "stream",
     "text": [
      "79474/79474 [==============================] - 2s 24us/step - loss: 0.8753 - accuracy: 0.5861\n",
      "Epoch 78/100\n",
      "79474/79474 [==============================] - 2s 24us/step - loss: 0.8752 - accuracy: 0.5880\n",
      "Epoch 79/100\n",
      "79474/79474 [==============================] - 2s 24us/step - loss: 0.8751 - accuracy: 0.5869\n",
      "Epoch 80/100\n",
      "79474/79474 [==============================] - 2s 24us/step - loss: 0.8747 - accuracy: 0.5885\n",
      "Epoch 81/100\n",
      "79474/79474 [==============================] - 2s 24us/step - loss: 0.8752 - accuracy: 0.5871\n",
      "Epoch 82/100\n",
      "79474/79474 [==============================] - 2s 24us/step - loss: 0.8746 - accuracy: 0.5879\n",
      "Epoch 83/100\n",
      "79474/79474 [==============================] - 2s 23us/step - loss: 0.8747 - accuracy: 0.5870\n",
      "Epoch 84/100\n",
      "79474/79474 [==============================] - 2s 25us/step - loss: 0.8746 - accuracy: 0.5862\n",
      "Epoch 85/100\n",
      "79474/79474 [==============================] - 2s 24us/step - loss: 0.8749 - accuracy: 0.5862\n",
      "Epoch 86/100\n",
      "79474/79474 [==============================] - 2s 24us/step - loss: 0.8741 - accuracy: 0.5880\n",
      "Epoch 87/100\n",
      "79474/79474 [==============================] - 2s 23us/step - loss: 0.8745 - accuracy: 0.5871\n",
      "Epoch 88/100\n",
      "79474/79474 [==============================] - 2s 24us/step - loss: 0.8747 - accuracy: 0.5870\n",
      "Epoch 89/100\n",
      "79474/79474 [==============================] - 2s 25us/step - loss: 0.8746 - accuracy: 0.5873\n",
      "Epoch 90/100\n",
      "79474/79474 [==============================] - 2s 25us/step - loss: 0.8744 - accuracy: 0.5876\n",
      "Epoch 91/100\n",
      "79474/79474 [==============================] - 2s 24us/step - loss: 0.8744 - accuracy: 0.5877\n",
      "Epoch 92/100\n",
      "79474/79474 [==============================] - 2s 26us/step - loss: 0.8741 - accuracy: 0.5874\n",
      "Epoch 93/100\n",
      "79474/79474 [==============================] - 2s 24us/step - loss: 0.8742 - accuracy: 0.5883\n",
      "Epoch 94/100\n",
      "79474/79474 [==============================] - 2s 24us/step - loss: 0.8742 - accuracy: 0.5877\n",
      "Epoch 95/100\n",
      "79474/79474 [==============================] - 2s 24us/step - loss: 0.8745 - accuracy: 0.5873\n",
      "Epoch 96/100\n",
      "79474/79474 [==============================] - 2s 24us/step - loss: 0.8739 - accuracy: 0.5886\n",
      "Epoch 97/100\n",
      "79474/79474 [==============================] - 2s 26us/step - loss: 0.8740 - accuracy: 0.5881\n",
      "Epoch 98/100\n",
      "79474/79474 [==============================] - 2s 27us/step - loss: 0.8740 - accuracy: 0.5871\n",
      "Epoch 99/100\n",
      "79474/79474 [==============================] - 2s 24us/step - loss: 0.8739 - accuracy: 0.5871\n",
      "Epoch 100/100\n",
      "79474/79474 [==============================] - 2s 25us/step - loss: 0.8740 - accuracy: 0.5869\n"
     ]
    },
    {
     "data": {
      "text/plain": [
       "<keras.callbacks.callbacks.History at 0x1df65f5edd8>"
      ]
     },
     "execution_count": 64,
     "metadata": {},
     "output_type": "execute_result"
    }
   ],
   "source": [
    "### Training Sequential Neural Nets for classification using all the features ###\n",
    "import keras\n",
    "from keras.models import Sequential\n",
    "from keras.layers import Dense\n",
    "# Initialising the ANN\n",
    "classifier_full = Sequential()\n",
    "# Adding the input layer and the first hidden layer\n",
    "classifier_full.add(Dense(units =15 , kernel_initializer = 'uniform', activation = 'relu', input_dim = 142))\n",
    "# Adding the second hidden layer\n",
    "classifier_full.add(Dense(units = 15, kernel_initializer = 'uniform', activation = 'relu'))\n",
    "# Adding the output layer\n",
    "classifier_full.add(Dense(units = 3, kernel_initializer = 'uniform', activation = 'softmax'))\n",
    "# Compiling the ANN\n",
    "classifier_full.compile(optimizer = 'adam', loss = 'sparse_categorical_crossentropy', metrics = ['accuracy'])\n",
    "# Fitting the ANN to the Training set\n",
    "classifier_full.fit(X_train, y_train, batch_size = 32, epochs = 100)"
   ]
  },
  {
   "cell_type": "code",
   "execution_count": 65,
   "metadata": {},
   "outputs": [],
   "source": [
    "### Prediting testing dataset ###\n",
    "NN_20F=classifier_20F.predict(X_test_20F)\n",
    "NN__Full=classifier_full.predict(X_test)"
   ]
  },
  {
   "cell_type": "code",
   "execution_count": 91,
   "metadata": {},
   "outputs": [],
   "source": [
    "### Binarizing the target features ###\n",
    "from sklearn.preprocessing import label_binarize\n",
    "y_test = label_binarize(y_test, classes=[0, 1, 2])"
   ]
  },
  {
   "cell_type": "code",
   "execution_count": 68,
   "metadata": {},
   "outputs": [
    {
     "name": "stdout",
     "output_type": "stream",
     "text": [
      "roc_auc score - NN with 20 Features: 0.6572828192778647\n",
      "roc_auc score - NN with Full Features: 0.6615849010405467\n"
     ]
    }
   ],
   "source": [
    "### Reporting ROC_AUC scores for both NN models ###\n",
    "import sklearn\n",
    "from sklearn.metrics import roc_auc_score\n",
    "print('roc_auc score - NN with 20 Features:', sklearn.metrics.roc_auc_score(y_test, NN_20F))\n",
    "print('roc_auc score - NN with Full Features:', sklearn.metrics.roc_auc_score(y_test, NN__Full))"
   ]
  },
  {
   "cell_type": "code",
   "execution_count": 69,
   "metadata": {},
   "outputs": [
    {
     "data": {
      "text/plain": [
       "GradientBoostingClassifier(criterion='friedman_mse', init=None,\n",
       "              learning_rate=0.1, loss='deviance', max_depth=2,\n",
       "              max_features=None, max_leaf_nodes=None,\n",
       "              min_impurity_decrease=0.0, min_impurity_split=None,\n",
       "              min_samples_leaf=1, min_samples_split=2,\n",
       "              min_weight_fraction_leaf=0.0, n_estimators=200,\n",
       "              presort='auto', random_state=0, subsample=1.0, verbose=0,\n",
       "              warm_start=False)"
      ]
     },
     "execution_count": 69,
     "metadata": {},
     "output_type": "execute_result"
    }
   ],
   "source": [
    "### Gradient boosting ###\n",
    "from sklearn.ensemble import GradientBoostingClassifier\n",
    "gbc_20F =GradientBoostingClassifier(n_estimators=200, learning_rate=0.10, max_depth=2, random_state=0)\n",
    "gbc_20F.fit(X_train_20F, y_train)"
   ]
  },
  {
   "cell_type": "code",
   "execution_count": 70,
   "metadata": {},
   "outputs": [
    {
     "data": {
      "text/plain": [
       "GradientBoostingClassifier(criterion='friedman_mse', init=None,\n",
       "              learning_rate=0.1, loss='deviance', max_depth=2,\n",
       "              max_features=None, max_leaf_nodes=None,\n",
       "              min_impurity_decrease=0.0, min_impurity_split=None,\n",
       "              min_samples_leaf=1, min_samples_split=2,\n",
       "              min_weight_fraction_leaf=0.0, n_estimators=200,\n",
       "              presort='auto', random_state=0, subsample=1.0, verbose=0,\n",
       "              warm_start=False)"
      ]
     },
     "execution_count": 70,
     "metadata": {},
     "output_type": "execute_result"
    }
   ],
   "source": [
    "###Gradient boosting###\n",
    "from sklearn.ensemble import GradientBoostingClassifier\n",
    "gbc_Full =GradientBoostingClassifier(n_estimators=200, learning_rate=0.10, max_depth=2, random_state=0)\n",
    "gbc_Full.fit(X_train, y_train)"
   ]
  },
  {
   "cell_type": "code",
   "execution_count": 107,
   "metadata": {},
   "outputs": [],
   "source": [
    "### Prediting testing dataset ###\n",
    "gbc_20F_prediction = gbc_20F.predict(X_test_20F)\n",
    "gbc_Full_prediction = gbc_Full.predict(X_test)"
   ]
  },
  {
   "cell_type": "code",
   "execution_count": 108,
   "metadata": {},
   "outputs": [],
   "source": [
    "### Binarizing the predicted target features with gbc ###\n",
    "gbc_20F_prediction = label_binarize(gbc_20F_prediction, classes=[0, 1, 2])\n",
    "gbc_Full_prediction = label_binarize(gbc_Full_prediction, classes=[0, 1, 2])"
   ]
  },
  {
   "cell_type": "code",
   "execution_count": 109,
   "metadata": {},
   "outputs": [
    {
     "name": "stdout",
     "output_type": "stream",
     "text": [
      "roc_auc score - gbc with 20 Features: 0.5629875875964024\n",
      "roc_auc score - gbc with Full Features: 0.5660162273912958\n"
     ]
    }
   ],
   "source": [
    "### Reporting ROC_AUC scores for both gbc models ###\n",
    "print('roc_auc score - gbc with 20 Features:', sklearn.metrics.roc_auc_score(y_test, gbc_20F_prediction))\n",
    "print('roc_auc score - gbc with Full Features:', sklearn.metrics.roc_auc_score(y_test, gbc_Full_prediction))"
   ]
  },
  {
   "cell_type": "code",
   "execution_count": 95,
   "metadata": {},
   "outputs": [
    {
     "data": {
      "text/plain": [
       "SGDClassifier(alpha=0.01, average=False, class_weight=None, epsilon=0.1,\n",
       "       eta0=0.0, fit_intercept=True, l1_ratio=0.15,\n",
       "       learning_rate='optimal', loss='log', max_iter=200, n_iter=None,\n",
       "       n_jobs=1, penalty='l1', power_t=0.5, random_state=0, shuffle=True,\n",
       "       tol=None, verbose=0, warm_start=False)"
      ]
     },
     "execution_count": 95,
     "metadata": {},
     "output_type": "execute_result"
    }
   ],
   "source": [
    "###Stochastic gradient descent###\n",
    "from sklearn.linear_model import SGDClassifier\n",
    "sgdc_20F=SGDClassifier(loss = 'log',alpha = 0.01, max_iter= 200, penalty= 'l1', random_state = 0)\n",
    "sgdc_20F.fit(X_train_20F, y_train)"
   ]
  },
  {
   "cell_type": "code",
   "execution_count": 111,
   "metadata": {},
   "outputs": [
    {
     "data": {
      "text/plain": [
       "SGDClassifier(alpha=0.01, average=False, class_weight=None, epsilon=0.1,\n",
       "       eta0=0.0, fit_intercept=True, l1_ratio=0.15,\n",
       "       learning_rate='optimal', loss='log', max_iter=200, n_iter=None,\n",
       "       n_jobs=1, penalty='l1', power_t=0.5, random_state=0, shuffle=True,\n",
       "       tol=None, verbose=0, warm_start=False)"
      ]
     },
     "execution_count": 111,
     "metadata": {},
     "output_type": "execute_result"
    }
   ],
   "source": [
    "### Stochastic gradient descent ###\n",
    "from sklearn.linear_model import SGDClassifier\n",
    "sgdc_Full=SGDClassifier(loss = 'log',alpha = 0.01, max_iter= 200, penalty= 'l1', random_state = 0)\n",
    "sgdc_Full.fit(X_train, y_train)"
   ]
  },
  {
   "cell_type": "code",
   "execution_count": 112,
   "metadata": {},
   "outputs": [],
   "source": [
    "### Prediting testing dataset ###\n",
    "sgdc_20F_prediction = sgdc_20F.predict(X_test_20F)\n",
    "sgdc_prediction_full = sgdc_Full.predict(X_test)"
   ]
  },
  {
   "cell_type": "code",
   "execution_count": 113,
   "metadata": {},
   "outputs": [],
   "source": [
    "### Binarizing the predicted target features with gbc ###\n",
    "sgdc_20F_prediction = label_binarize(sgdc_20F_prediction, classes=[0, 1, 2])\n",
    "sgdc_prediction_full = label_binarize(sgdc_prediction_full, classes=[0, 1, 2])"
   ]
  },
  {
   "cell_type": "code",
   "execution_count": 120,
   "metadata": {},
   "outputs": [
    {
     "name": "stdout",
     "output_type": "stream",
     "text": [
      "roc_auc score - sgdc with 20 Features: 0.5363189370728991\n",
      "roc_auc score - sgdc with Full Features: 0.5363718791400263\n"
     ]
    }
   ],
   "source": [
    "### Reporting ROC_AUC scores for both sgdc models ###\n",
    "print('roc_auc score - sgdc with 20 Features:', sklearn.metrics.roc_auc_score(y_test, sgdc_20F_prediction))\n",
    "print('roc_auc score - sgdc with Full Features:', sklearn.metrics.roc_auc_score(y_test, sgdc_prediction_full))"
   ]
  },
  {
   "cell_type": "code",
   "execution_count": 115,
   "metadata": {},
   "outputs": [
    {
     "data": {
      "text/plain": [
       "RandomForestClassifier(bootstrap=True, class_weight=None, criterion='gini',\n",
       "            max_depth=8, max_features='auto', max_leaf_nodes=None,\n",
       "            min_impurity_decrease=0.0, min_impurity_split=None,\n",
       "            min_samples_leaf=1, min_samples_split=6,\n",
       "            min_weight_fraction_leaf=0.0, n_estimators=500, n_jobs=1,\n",
       "            oob_score=False, random_state=None, verbose=0,\n",
       "            warm_start=False)"
      ]
     },
     "execution_count": 115,
     "metadata": {},
     "output_type": "execute_result"
    }
   ],
   "source": [
    "###RandomForestClassifier###\n",
    "from sklearn.ensemble import RandomForestClassifier\n",
    "\n",
    "# Create the model with 100 trees\n",
    "rf_20F = RandomForestClassifier(n_estimators= 500, bootstrap = True, min_samples_split= 6, max_depth= 8, max_features ='auto' )\n",
    "# Fit on training data\n",
    "rf_20F.fit(X_train_20F, y_train)"
   ]
  },
  {
   "cell_type": "code",
   "execution_count": 116,
   "metadata": {},
   "outputs": [
    {
     "data": {
      "text/plain": [
       "RandomForestClassifier(bootstrap=True, class_weight=None, criterion='gini',\n",
       "            max_depth=8, max_features='auto', max_leaf_nodes=None,\n",
       "            min_impurity_decrease=0.0, min_impurity_split=None,\n",
       "            min_samples_leaf=1, min_samples_split=6,\n",
       "            min_weight_fraction_leaf=0.0, n_estimators=500, n_jobs=1,\n",
       "            oob_score=False, random_state=None, verbose=0,\n",
       "            warm_start=False)"
      ]
     },
     "execution_count": 116,
     "metadata": {},
     "output_type": "execute_result"
    }
   ],
   "source": [
    "###RandomForestClassifier###\n",
    "from sklearn.ensemble import RandomForestClassifier\n",
    "\n",
    "# Create the model with 100 trees\n",
    "rf_Full = RandomForestClassifier(n_estimators= 500, bootstrap = True, min_samples_split= 6, max_depth= 8, max_features ='auto' )\n",
    "# Fit on training data\n",
    "rf_Full.fit(X_train, y_train)"
   ]
  },
  {
   "cell_type": "code",
   "execution_count": 117,
   "metadata": {},
   "outputs": [],
   "source": [
    "### Prediting testing dataset ###\n",
    "rf_prediction_20F = rf_20F.predict(X_test_20F)\n",
    "rf_prediction_Full = rf_Full.predict(X_test)"
   ]
  },
  {
   "cell_type": "code",
   "execution_count": 122,
   "metadata": {},
   "outputs": [],
   "source": [
    "### Binarizing the predicted target features with gbc ###\n",
    "rf_prediction_20F = label_binarize(rf_prediction_20F, classes=[0, 1, 2])\n",
    "rf_prediction_Full = label_binarize(rf_prediction_Full, classes=[0, 1, 2])"
   ]
  },
  {
   "cell_type": "code",
   "execution_count": 123,
   "metadata": {},
   "outputs": [
    {
     "name": "stdout",
     "output_type": "stream",
     "text": [
      "roc_auc score - RandomForest with 20 Features: 0.5570796803640298\n",
      "roc_auc score - RandomForest with Full Features: 0.5360562950719638\n"
     ]
    }
   ],
   "source": [
    "### Reporting ROC_AUC scores for both sgdc models ###\n",
    "print('roc_auc score - RandomForest with 20 Features:', sklearn.metrics.roc_auc_score(y_test, rf_prediction_20F))\n",
    "print('roc_auc score - RandomForest with Full Features:', sklearn.metrics.roc_auc_score(y_test, rf_prediction_Full))"
   ]
  },
  {
   "cell_type": "code",
   "execution_count": null,
   "metadata": {},
   "outputs": [],
   "source": []
  }
 ],
 "metadata": {
  "kernelspec": {
   "display_name": "Python 3",
   "language": "python",
   "name": "python3"
  },
  "language_info": {
   "codemirror_mode": {
    "name": "ipython",
    "version": 3
   },
   "file_extension": ".py",
   "mimetype": "text/x-python",
   "name": "python",
   "nbconvert_exporter": "python",
   "pygments_lexer": "ipython3",
   "version": "3.7.0"
  }
 },
 "nbformat": 4,
 "nbformat_minor": 2
}
